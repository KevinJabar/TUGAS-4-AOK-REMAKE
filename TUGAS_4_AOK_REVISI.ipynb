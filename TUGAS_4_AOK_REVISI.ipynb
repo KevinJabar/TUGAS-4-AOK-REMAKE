{
 "cells": [
  {
   "cell_type": "markdown",
   "metadata": {},
   "source": [
    "## Uji Test Data"
   ]
  },
  {
   "cell_type": "markdown",
   "metadata": {},
   "source": [
    "#### Membuat uji dara dengan Alpha Crochbach, T-test, dan Principal Component Analysis (PCA) menggunakan bahasa R"
   ]
  },
  {
   "cell_type": "markdown",
   "metadata": {},
   "source": [
    "### 1. Uji Data dengan Alpha Crochbach"
   ]
  },
  {
   "cell_type": "code",
   "execution_count": 1,
   "metadata": {},
   "outputs": [],
   "source": [
    "mydata<-read.csv('data.csv')"
   ]
  },
  {
   "cell_type": "code",
   "execution_count": 2,
   "metadata": {},
   "outputs": [
    {
     "data": {
      "text/html": [
       "<table>\n",
       "<thead><tr><th scope=col>Q1</th><th scope=col>Q2</th><th scope=col>Q3</th><th scope=col>Q4</th><th scope=col>Q5</th><th scope=col>Q6</th><th scope=col>Q7</th><th scope=col>Q8</th><th scope=col>Q9</th><th scope=col>Q10</th></tr></thead>\n",
       "<tbody>\n",
       "\t<tr><td>4</td><td>4</td><td>4</td><td>5</td><td>4</td><td>3</td><td>5</td><td>5</td><td>4</td><td>3</td></tr>\n",
       "\t<tr><td>3</td><td>3</td><td>4</td><td>5</td><td>4</td><td>4</td><td>4</td><td>5</td><td>3</td><td>2</td></tr>\n",
       "\t<tr><td>3</td><td>3</td><td>3</td><td>5</td><td>5</td><td>3</td><td>3</td><td>5</td><td>5</td><td>2</td></tr>\n",
       "\t<tr><td>2</td><td>4</td><td>4</td><td>5</td><td>4</td><td>4</td><td>4</td><td>4</td><td>3</td><td>4</td></tr>\n",
       "\t<tr><td>4</td><td>5</td><td>5</td><td>5</td><td>5</td><td>4</td><td>4</td><td>5</td><td>3</td><td>4</td></tr>\n",
       "\t<tr><td>2</td><td>3</td><td>3</td><td>5</td><td>3</td><td>3</td><td>5</td><td>5</td><td>4</td><td>3</td></tr>\n",
       "</tbody>\n",
       "</table>\n"
      ],
      "text/latex": [
       "\\begin{tabular}{r|llllllllll}\n",
       " Q1 & Q2 & Q3 & Q4 & Q5 & Q6 & Q7 & Q8 & Q9 & Q10\\\\\n",
       "\\hline\n",
       "\t 4 & 4 & 4 & 5 & 4 & 3 & 5 & 5 & 4 & 3\\\\\n",
       "\t 3 & 3 & 4 & 5 & 4 & 4 & 4 & 5 & 3 & 2\\\\\n",
       "\t 3 & 3 & 3 & 5 & 5 & 3 & 3 & 5 & 5 & 2\\\\\n",
       "\t 2 & 4 & 4 & 5 & 4 & 4 & 4 & 4 & 3 & 4\\\\\n",
       "\t 4 & 5 & 5 & 5 & 5 & 4 & 4 & 5 & 3 & 4\\\\\n",
       "\t 2 & 3 & 3 & 5 & 3 & 3 & 5 & 5 & 4 & 3\\\\\n",
       "\\end{tabular}\n"
      ],
      "text/markdown": [
       "\n",
       "| Q1 | Q2 | Q3 | Q4 | Q5 | Q6 | Q7 | Q8 | Q9 | Q10 |\n",
       "|---|---|---|---|---|---|---|---|---|---|\n",
       "| 4 | 4 | 4 | 5 | 4 | 3 | 5 | 5 | 4 | 3 |\n",
       "| 3 | 3 | 4 | 5 | 4 | 4 | 4 | 5 | 3 | 2 |\n",
       "| 3 | 3 | 3 | 5 | 5 | 3 | 3 | 5 | 5 | 2 |\n",
       "| 2 | 4 | 4 | 5 | 4 | 4 | 4 | 4 | 3 | 4 |\n",
       "| 4 | 5 | 5 | 5 | 5 | 4 | 4 | 5 | 3 | 4 |\n",
       "| 2 | 3 | 3 | 5 | 3 | 3 | 5 | 5 | 4 | 3 |\n",
       "\n"
      ],
      "text/plain": [
       "  Q1 Q2 Q3 Q4 Q5 Q6 Q7 Q8 Q9 Q10\n",
       "1 4  4  4  5  4  3  5  5  4  3  \n",
       "2 3  3  4  5  4  4  4  5  3  2  \n",
       "3 3  3  3  5  5  3  3  5  5  2  \n",
       "4 2  4  4  5  4  4  4  4  3  4  \n",
       "5 4  5  5  5  5  4  4  5  3  4  \n",
       "6 2  3  3  5  3  3  5  5  4  3  "
      ]
     },
     "metadata": {},
     "output_type": "display_data"
    }
   ],
   "source": [
    "head(mydata)"
   ]
  },
  {
   "cell_type": "code",
   "execution_count": 3,
   "metadata": {},
   "outputs": [
    {
     "name": "stderr",
     "output_type": "stream",
     "text": [
      "Warning message:\n",
      "\"package 'psych' was built under R version 3.6.3\""
     ]
    }
   ],
   "source": [
    "library('psych')"
   ]
  },
  {
   "cell_type": "code",
   "execution_count": 4,
   "metadata": {},
   "outputs": [
    {
     "name": "stderr",
     "output_type": "stream",
     "text": [
      "Warning message in alpha(mydata):\n",
      "\"Some items were negatively correlated with the total scale and probably \n",
      "should be reversed.  \n",
      "To do this, run the function again with the 'check.keys=TRUE' option\""
     ]
    },
    {
     "name": "stdout",
     "output_type": "stream",
     "text": [
      "Some items ( Q4 ) were negatively correlated with the total scale and \n",
      "probably should be reversed.  \n",
      "To do this, run the function again with the 'check.keys=TRUE' option"
     ]
    },
    {
     "data": {
      "text/plain": [
       "\n",
       "Reliability analysis   \n",
       "Call: alpha(x = mydata)\n",
       "\n",
       "  raw_alpha std.alpha G6(smc) average_r S/N   ase mean   sd median_r\n",
       "      0.48      0.52    0.55     0.099 1.1 0.034  3.9 0.34    0.088\n",
       "\n",
       " lower alpha upper     95% confidence boundaries\n",
       "0.42 0.48 0.55 \n",
       "\n",
       " Reliability if an item is dropped:\n",
       "    raw_alpha std.alpha G6(smc) average_r  S/N alpha se var.r med.r\n",
       "Q1       0.48      0.52    0.55     0.107 1.08    0.035 0.020 0.088\n",
       "Q2       0.44      0.49    0.53     0.098 0.97    0.037 0.020 0.084\n",
       "Q3       0.42      0.46    0.49     0.087 0.86    0.038 0.016 0.066\n",
       "Q4       0.58      0.59    0.60     0.137 1.43    0.027 0.013 0.109\n",
       "Q5       0.46      0.50    0.53     0.099 0.99    0.036 0.020 0.088\n",
       "Q6       0.40      0.44    0.47     0.080 0.78    0.040 0.017 0.059\n",
       "Q7       0.47      0.52    0.54     0.106 1.07    0.035 0.020 0.090\n",
       "Q8       0.47      0.51    0.53     0.104 1.04    0.035 0.020 0.086\n",
       "Q9       0.40      0.46    0.47     0.086 0.84    0.040 0.012 0.084\n",
       "Q10      0.41      0.46    0.47     0.086 0.85    0.040 0.013 0.088\n",
       "\n",
       " Item statistics \n",
       "      n raw.r std.r r.cor r.drop mean   sd\n",
       "Q1  507  0.42  0.37  0.21   0.14  3.9 1.00\n",
       "Q2  507  0.46  0.45  0.32   0.24  3.5 0.82\n",
       "Q3  507  0.50  0.53  0.46   0.32  4.0 0.70\n",
       "Q4  507  0.19  0.12 -0.13  -0.12  4.3 1.06\n",
       "Q5  507  0.38  0.43  0.31   0.20  4.1 0.65\n",
       "Q6  507  0.56  0.59  0.56   0.40  3.7 0.71\n",
       "Q7  507  0.33  0.38  0.22   0.14  4.5 0.70\n",
       "Q8  507  0.34  0.40  0.25   0.16  4.6 0.63\n",
       "Q9  507  0.58  0.54  0.53   0.34  3.1 0.97\n",
       "Q10 507  0.55  0.54  0.52   0.36  3.2 0.78\n",
       "\n",
       "Non missing response frequency for each item\n",
       "       1    2    3    4    5 miss\n",
       "Q1  0.00 0.13 0.15 0.42 0.29    0\n",
       "Q2  0.01 0.10 0.40 0.39 0.10    0\n",
       "Q3  0.00 0.01 0.18 0.56 0.25    0\n",
       "Q4  0.01 0.11 0.06 0.18 0.64    0\n",
       "Q5  0.00 0.01 0.11 0.59 0.28    0\n",
       "Q6  0.00 0.01 0.39 0.47 0.13    0\n",
       "Q7  0.00 0.01 0.07 0.34 0.58    0\n",
       "Q8  0.01 0.00 0.04 0.32 0.64    0\n",
       "Q9  0.03 0.23 0.41 0.24 0.09    0\n",
       "Q10 0.01 0.11 0.58 0.23 0.07    0"
      ]
     },
     "metadata": {},
     "output_type": "display_data"
    },
    {
     "name": "stdout",
     "output_type": "stream",
     "text": [
      "[1] \"Q1 = Menurut pengalaman anda,apakah  lebih baik membeli/mengganti perangkat yang sudah rusak dibanding memperbaikinya\"\n",
      "[1] \"Q2 = Mampukah Anda membeli Komputer dengan harga yang Mahal tapi tahan lama?dibanding membeli komputer murah tapi tidak tahan lama\"\n",
      "[1] \"Q3 = Menurut anda apakah  AMD dan Intel sekarang sedang mendomiasi sebagai processor yang banyak diminati saat ini\"\n",
      "[1] \"Q4 = Seberapa fanatik anda menilai suatu brand?misal jika anda sudah memakai processor intel maka apakah anda akan berkelanjutan membeli sebuah processor\"\n",
      "[1] \"Q5 = Setujukah anda  jika komponen produk hardware dalam negeri harus diupayakan karena pasarnya besar sekali\"\n",
      "[1] \"Q6 = Apakah tampilan layar/grafik sangat memuaskan ketika menggunakan VGA MSI Geforce GTX\"\n",
      "[1] \"Q7 = Seberapa pengaruh laptop dengan kapasitas Ram yang kecil saat menjalankan sebuah game\"\n",
      "[1] \"Q8 = Seberapa perlu memiliki storage external(flashdisk/hd)buat penyimpanan data selain penyimpanan komputer yang sudah ada?\"\n",
      "[1] \"Q9 = Seberapa paham anda bahwa heatsink adalah alat untuk menstabilisasikan suhu pada perangkat?\"\n",
      "[1] \"Q10 = Seberapa tahu anda tentang semua jenis hardware yang ada?\"\n"
     ]
    }
   ],
   "source": [
    "alpha(mydata)\n",
    "print('Q1 = Menurut pengalaman anda,apakah  lebih baik membeli/mengganti perangkat yang sudah rusak dibanding memperbaikinya')\n",
    "print('Q2 = Mampukah Anda membeli Komputer dengan harga yang Mahal tapi tahan lama?dibanding membeli komputer murah tapi tidak tahan lama')\n",
    "print('Q3 = Menurut anda apakah  AMD dan Intel sekarang sedang mendomiasi sebagai processor yang banyak diminati saat ini')\n",
    "print('Q4 = Seberapa fanatik anda menilai suatu brand?misal jika anda sudah memakai processor intel maka apakah anda akan berkelanjutan membeli sebuah processor')\n",
    "print('Q5 = Setujukah anda  jika komponen produk hardware dalam negeri harus diupayakan karena pasarnya besar sekali')\n",
    "print('Q6 = Apakah tampilan layar/grafik sangat memuaskan ketika menggunakan VGA MSI Geforce GTX')\n",
    "print('Q7 = Seberapa pengaruh laptop dengan kapasitas Ram yang kecil saat menjalankan sebuah game')\n",
    "print('Q8 = Seberapa perlu memiliki storage external(flashdisk/hd)buat penyimpanan data selain penyimpanan komputer yang sudah ada?')\n",
    "print('Q9 = Seberapa paham anda bahwa heatsink adalah alat untuk menstabilisasikan suhu pada perangkat?')\n",
    "print('Q10 = Seberapa tahu anda tentang semua jenis hardware yang ada?')"
   ]
  },
  {
   "cell_type": "markdown",
   "metadata": {},
   "source": [
    "### 2. Uji Data dengan T-test"
   ]
  },
  {
   "cell_type": "code",
   "execution_count": 8,
   "metadata": {},
   "outputs": [],
   "source": [
    "mydata<-read.csv('data.csv')"
   ]
  },
  {
   "cell_type": "code",
   "execution_count": 9,
   "metadata": {},
   "outputs": [],
   "source": [
    "attach(mydata)"
   ]
  },
  {
   "cell_type": "code",
   "execution_count": 10,
   "metadata": {},
   "outputs": [
    {
     "data": {
      "text/html": [
       "<ol class=list-inline>\n",
       "\t<li>'Q1'</li>\n",
       "\t<li>'Q2'</li>\n",
       "\t<li>'Q3'</li>\n",
       "\t<li>'Q4'</li>\n",
       "\t<li>'Q5'</li>\n",
       "\t<li>'Q6'</li>\n",
       "\t<li>'Q7'</li>\n",
       "\t<li>'Q8'</li>\n",
       "\t<li>'Q9'</li>\n",
       "\t<li>'Q10'</li>\n",
       "</ol>\n"
      ],
      "text/latex": [
       "\\begin{enumerate*}\n",
       "\\item 'Q1'\n",
       "\\item 'Q2'\n",
       "\\item 'Q3'\n",
       "\\item 'Q4'\n",
       "\\item 'Q5'\n",
       "\\item 'Q6'\n",
       "\\item 'Q7'\n",
       "\\item 'Q8'\n",
       "\\item 'Q9'\n",
       "\\item 'Q10'\n",
       "\\end{enumerate*}\n"
      ],
      "text/markdown": [
       "1. 'Q1'\n",
       "2. 'Q2'\n",
       "3. 'Q3'\n",
       "4. 'Q4'\n",
       "5. 'Q5'\n",
       "6. 'Q6'\n",
       "7. 'Q7'\n",
       "8. 'Q8'\n",
       "9. 'Q9'\n",
       "10. 'Q10'\n",
       "\n",
       "\n"
      ],
      "text/plain": [
       " [1] \"Q1\"  \"Q2\"  \"Q3\"  \"Q4\"  \"Q5\"  \"Q6\"  \"Q7\"  \"Q8\"  \"Q9\"  \"Q10\""
      ]
     },
     "metadata": {},
     "output_type": "display_data"
    }
   ],
   "source": [
    "names(mydata)"
   ]
  },
  {
   "cell_type": "code",
   "execution_count": 11,
   "metadata": {},
   "outputs": [
    {
     "data": {
      "text/html": [
       "<ol class=list-inline>\n",
       "\t<li>507</li>\n",
       "\t<li>10</li>\n",
       "</ol>\n"
      ],
      "text/latex": [
       "\\begin{enumerate*}\n",
       "\\item 507\n",
       "\\item 10\n",
       "\\end{enumerate*}\n"
      ],
      "text/markdown": [
       "1. 507\n",
       "2. 10\n",
       "\n",
       "\n"
      ],
      "text/plain": [
       "[1] 507  10"
      ]
     },
     "metadata": {},
     "output_type": "display_data"
    }
   ],
   "source": [
    "dim(mydata)"
   ]
  },
  {
   "cell_type": "code",
   "execution_count": 12,
   "metadata": {},
   "outputs": [
    {
     "data": {
      "text/plain": [
       "\n",
       "\tPaired t-test\n",
       "\n",
       "data:  Q1 and Q2\n",
       "t = 7.1027, df = 506, p-value = 4.172e-12\n",
       "alternative hypothesis: true difference in means is not equal to 0\n",
       "99 percent confidence interval:\n",
       " 0.2408412 0.5165553\n",
       "sample estimates:\n",
       "mean of the differences \n",
       "              0.3786982 \n"
      ]
     },
     "metadata": {},
     "output_type": "display_data"
    }
   ],
   "source": [
    "t.test(Q1, Q2, mu=0, alt=\"two.sided\", paired=T, conf.level=0.99)"
   ]
  },
  {
   "cell_type": "code",
   "execution_count": 13,
   "metadata": {},
   "outputs": [
    {
     "data": {
      "text/plain": [
       "\n",
       "\tPaired t-test\n",
       "\n",
       "data:  Q1 and Q3\n",
       "t = -3.6143, df = 506, p-value = 0.0003313\n",
       "alternative hypothesis: true difference in means is not equal to 0\n",
       "99 percent confidence interval:\n",
       " -0.30788755 -0.05108681\n",
       "sample estimates:\n",
       "mean of the differences \n",
       "             -0.1794872 \n"
      ]
     },
     "metadata": {},
     "output_type": "display_data"
    }
   ],
   "source": [
    "t.test(Q1, Q3, mu=0, alt=\"two.sided\", paired=T, conf.level=0.99)"
   ]
  },
  {
   "cell_type": "code",
   "execution_count": 14,
   "metadata": {},
   "outputs": [
    {
     "data": {
      "text/plain": [
       "\n",
       "\tPaired t-test\n",
       "\n",
       "data:  Q1 and Q4\n",
       "t = -7.2072, df = 506, p-value = 2.088e-12\n",
       "alternative hypothesis: true difference in means is not equal to 0\n",
       "99 percent confidence interval:\n",
       " -0.6512340 -0.3073458\n",
       "sample estimates:\n",
       "mean of the differences \n",
       "             -0.4792899 \n"
      ]
     },
     "metadata": {},
     "output_type": "display_data"
    }
   ],
   "source": [
    "t.test(Q1, Q4, mu=0, alt=\"two.sided\", paired=T, conf.level=0.99)"
   ]
  },
  {
   "cell_type": "code",
   "execution_count": 15,
   "metadata": {},
   "outputs": [
    {
     "data": {
      "text/plain": [
       "\n",
       "\tPaired t-test\n",
       "\n",
       "data:  Q1 and Q5\n",
       "t = -5.6719, df = 506, p-value = 2.378e-08\n",
       "alternative hypothesis: true difference in means is not equal to 0\n",
       "99 percent confidence interval:\n",
       " -0.4221127 -0.1577690\n",
       "sample estimates:\n",
       "mean of the differences \n",
       "             -0.2899408 \n"
      ]
     },
     "metadata": {},
     "output_type": "display_data"
    }
   ],
   "source": [
    "t.test(Q1, Q5, mu=0, alt=\"two.sided\", paired=T, conf.level=0.99)"
   ]
  },
  {
   "cell_type": "code",
   "execution_count": 16,
   "metadata": {},
   "outputs": [
    {
     "data": {
      "text/plain": [
       "\n",
       "\tPaired t-test\n",
       "\n",
       "data:  Q1 and Q6\n",
       "t = 2.705, df = 506, p-value = 0.00706\n",
       "alternative hypothesis: true difference in means is not equal to 0\n",
       "99 percent confidence interval:\n",
       " 0.00609682 0.27003730\n",
       "sample estimates:\n",
       "mean of the differences \n",
       "              0.1380671 \n"
      ]
     },
     "metadata": {},
     "output_type": "display_data"
    }
   ],
   "source": [
    "t.test(Q1, Q6, mu=0, alt=\"two.sided\", paired=T, conf.level=0.99)"
   ]
  },
  {
   "cell_type": "code",
   "execution_count": 17,
   "metadata": {},
   "outputs": [
    {
     "data": {
      "text/plain": [
       "\n",
       "\tPaired t-test\n",
       "\n",
       "data:  Q1 and Q7\n",
       "t = -11.868, df = 506, p-value < 2.2e-16\n",
       "alternative hypothesis: true difference in means is not equal to 0\n",
       "99 percent confidence interval:\n",
       " -0.7638660 -0.4905719\n",
       "sample estimates:\n",
       "mean of the differences \n",
       "             -0.6272189 \n"
      ]
     },
     "metadata": {},
     "output_type": "display_data"
    }
   ],
   "source": [
    "t.test(Q1, Q7, mu=0, alt=\"two.sided\", paired=T, conf.level=0.99)"
   ]
  },
  {
   "cell_type": "code",
   "execution_count": 18,
   "metadata": {},
   "outputs": [
    {
     "data": {
      "text/plain": [
       "\n",
       "\tPaired t-test\n",
       "\n",
       "data:  Q1 and Q8\n",
       "t = -13.525, df = 506, p-value < 2.2e-16\n",
       "alternative hypothesis: true difference in means is not equal to 0\n",
       "99 percent confidence interval:\n",
       " -0.8645998 -0.5870767\n",
       "sample estimates:\n",
       "mean of the differences \n",
       "             -0.7258383 \n"
      ]
     },
     "metadata": {},
     "output_type": "display_data"
    }
   ],
   "source": [
    "t.test(Q1, Q8, mu=0, alt=\"two.sided\", paired=T, conf.level=0.99)"
   ]
  },
  {
   "cell_type": "code",
   "execution_count": 19,
   "metadata": {},
   "outputs": [
    {
     "data": {
      "text/plain": [
       "\n",
       "\tPaired t-test\n",
       "\n",
       "data:  Q1 and Q9\n",
       "t = 12.56, df = 506, p-value < 2.2e-16\n",
       "alternative hypothesis: true difference in means is not equal to 0\n",
       "99 percent confidence interval:\n",
       " 0.5873855 0.8919044\n",
       "sample estimates:\n",
       "mean of the differences \n",
       "               0.739645 \n"
      ]
     },
     "metadata": {},
     "output_type": "display_data"
    }
   ],
   "source": [
    "t.test(Q1, Q9, mu=0, alt=\"two.sided\", paired=T, conf.level=0.99)"
   ]
  },
  {
   "cell_type": "code",
   "execution_count": 20,
   "metadata": {},
   "outputs": [
    {
     "data": {
      "text/plain": [
       "\n",
       "\tPaired t-test\n",
       "\n",
       "data:  Q1 and Q10\n",
       "t = 11.589, df = 506, p-value < 2.2e-16\n",
       "alternative hypothesis: true difference in means is not equal to 0\n",
       "99 percent confidence interval:\n",
       " 0.4857447 0.7647484\n",
       "sample estimates:\n",
       "mean of the differences \n",
       "              0.6252465 \n"
      ]
     },
     "metadata": {},
     "output_type": "display_data"
    }
   ],
   "source": [
    "t.test(Q1, Q10, mu=0, alt=\"two.sided\", paired=T, conf.level=0.99)"
   ]
  },
  {
   "cell_type": "code",
   "execution_count": 21,
   "metadata": {},
   "outputs": [
    {
     "data": {
      "text/plain": [
       "\n",
       "\tPaired t-test\n",
       "\n",
       "data:  Q2 and Q3\n",
       "t = -12.434, df = 506, p-value < 2.2e-16\n",
       "alternative hypothesis: true difference in means is not equal to 0\n",
       "99 percent confidence interval:\n",
       " -0.6742603 -0.4421105\n",
       "sample estimates:\n",
       "mean of the differences \n",
       "             -0.5581854 \n"
      ]
     },
     "metadata": {},
     "output_type": "display_data"
    }
   ],
   "source": [
    "t.test(Q2, Q3, mu=0, alt=\"two.sided\", paired=T, conf.level=0.99)"
   ]
  },
  {
   "cell_type": "code",
   "execution_count": 22,
   "metadata": {},
   "outputs": [
    {
     "data": {
      "text/plain": [
       "\n",
       "\tPaired t-test\n",
       "\n",
       "data:  Q2 and Q4\n",
       "t = -14.298, df = 506, p-value < 2.2e-16\n",
       "alternative hypothesis: true difference in means is not equal to 0\n",
       "99 percent confidence interval:\n",
       " -1.0131418 -0.7028345\n",
       "sample estimates:\n",
       "mean of the differences \n",
       "             -0.8579882 \n"
      ]
     },
     "metadata": {},
     "output_type": "display_data"
    }
   ],
   "source": [
    "t.test(Q2, Q4, mu=0, alt=\"two.sided\", paired=T, conf.level=0.99)"
   ]
  },
  {
   "cell_type": "code",
   "execution_count": 23,
   "metadata": {},
   "outputs": [
    {
     "data": {
      "text/plain": [
       "\n",
       "\tPaired t-test\n",
       "\n",
       "data:  Q2 and Q5\n",
       "t = -14.706, df = 506, p-value < 2.2e-16\n",
       "alternative hypothesis: true difference in means is not equal to 0\n",
       "99 percent confidence interval:\n",
       " -0.7861971 -0.5510810\n",
       "sample estimates:\n",
       "mean of the differences \n",
       "             -0.6686391 \n"
      ]
     },
     "metadata": {},
     "output_type": "display_data"
    }
   ],
   "source": [
    "t.test(Q2, Q5, mu=0, alt=\"two.sided\", paired=T, conf.level=0.99)"
   ]
  },
  {
   "cell_type": "code",
   "execution_count": 24,
   "metadata": {},
   "outputs": [
    {
     "data": {
      "text/plain": [
       "\n",
       "\tPaired t-test\n",
       "\n",
       "data:  Q2 and Q6\n",
       "t = -5.469, df = 506, p-value = 7.123e-08\n",
       "alternative hypothesis: true difference in means is not equal to 0\n",
       "99 percent confidence interval:\n",
       " -0.3543941 -0.1268682\n",
       "sample estimates:\n",
       "mean of the differences \n",
       "             -0.2406312 \n"
      ]
     },
     "metadata": {},
     "output_type": "display_data"
    }
   ],
   "source": [
    "t.test(Q2, Q6, mu=0, alt=\"two.sided\", paired=T, conf.level=0.99)"
   ]
  },
  {
   "cell_type": "code",
   "execution_count": 25,
   "metadata": {},
   "outputs": [
    {
     "data": {
      "text/plain": [
       "\n",
       "\tPaired t-test\n",
       "\n",
       "data:  Q2 and Q7\n",
       "t = -21.248, df = 506, p-value < 2.2e-16\n",
       "alternative hypothesis: true difference in means is not equal to 0\n",
       "99 percent confidence interval:\n",
       " -1.1283241 -0.8835102\n",
       "sample estimates:\n",
       "mean of the differences \n",
       "              -1.005917 \n"
      ]
     },
     "metadata": {},
     "output_type": "display_data"
    }
   ],
   "source": [
    "t.test(Q2, Q7, mu=0, alt=\"two.sided\", paired=T, conf.level=0.99)"
   ]
  },
  {
   "cell_type": "code",
   "execution_count": 26,
   "metadata": {},
   "outputs": [
    {
     "data": {
      "text/plain": [
       "\n",
       "\tPaired t-test\n",
       "\n",
       "data:  Q2 and Q8\n",
       "t = -24.406, df = 506, p-value < 2.2e-16\n",
       "alternative hypothesis: true difference in means is not equal to 0\n",
       "99 percent confidence interval:\n",
       " -1.2215534 -0.9875196\n",
       "sample estimates:\n",
       "mean of the differences \n",
       "              -1.104536 \n"
      ]
     },
     "metadata": {},
     "output_type": "display_data"
    }
   ],
   "source": [
    "t.test(Q2, Q8, mu=0, alt=\"two.sided\", paired=T, conf.level=0.99)"
   ]
  },
  {
   "cell_type": "code",
   "execution_count": 27,
   "metadata": {},
   "outputs": [
    {
     "data": {
      "text/plain": [
       "\n",
       "\tPaired t-test\n",
       "\n",
       "data:  Q2 and Q9\n",
       "t = 7.1328, df = 506, p-value = 3.422e-12\n",
       "alternative hypothesis: true difference in means is not equal to 0\n",
       "99 percent confidence interval:\n",
       " 0.2301057 0.4917878\n",
       "sample estimates:\n",
       "mean of the differences \n",
       "              0.3609467 \n"
      ]
     },
     "metadata": {},
     "output_type": "display_data"
    }
   ],
   "source": [
    "t.test(Q2, Q9, mu=0, alt=\"two.sided\", paired=T, conf.level=0.99)"
   ]
  },
  {
   "cell_type": "code",
   "execution_count": 28,
   "metadata": {},
   "outputs": [
    {
     "data": {
      "text/plain": [
       "\n",
       "\tPaired t-test\n",
       "\n",
       "data:  Q2 and Q10\n",
       "t = 5.5071, df = 506, p-value = 5.812e-08\n",
       "alternative hypothesis: true difference in means is not equal to 0\n",
       "99 percent confidence interval:\n",
       " 0.1307941 0.3623026\n",
       "sample estimates:\n",
       "mean of the differences \n",
       "              0.2465483 \n"
      ]
     },
     "metadata": {},
     "output_type": "display_data"
    }
   ],
   "source": [
    "t.test(Q2, Q10, mu=0, alt=\"two.sided\", paired=T, conf.level=0.99)"
   ]
  },
  {
   "cell_type": "code",
   "execution_count": 29,
   "metadata": {},
   "outputs": [
    {
     "data": {
      "text/plain": [
       "\n",
       "\tPaired t-test\n",
       "\n",
       "data:  Q3 and Q4\n",
       "t = -4.9569, df = 506, p-value = 9.786e-07\n",
       "alternative hypothesis: true difference in means is not equal to 0\n",
       "99 percent confidence interval:\n",
       " -0.4561822 -0.1434233\n",
       "sample estimates:\n",
       "mean of the differences \n",
       "             -0.2998028 \n"
      ]
     },
     "metadata": {},
     "output_type": "display_data"
    }
   ],
   "source": [
    "t.test(Q3, Q4, mu=0, alt=\"two.sided\", paired=T, conf.level=0.99)"
   ]
  },
  {
   "cell_type": "code",
   "execution_count": 30,
   "metadata": {},
   "outputs": [
    {
     "data": {
      "text/plain": [
       "\n",
       "\tPaired t-test\n",
       "\n",
       "data:  Q3 and Q5\n",
       "t = -2.8335, df = 506, p-value = 0.004787\n",
       "alternative hypothesis: true difference in means is not equal to 0\n",
       "99 percent confidence interval:\n",
       " -0.211241424 -0.009665874\n",
       "sample estimates:\n",
       "mean of the differences \n",
       "             -0.1104536 \n"
      ]
     },
     "metadata": {},
     "output_type": "display_data"
    }
   ],
   "source": [
    "t.test(Q3, Q5, mu=0, alt=\"two.sided\", paired=T, conf.level=0.99)"
   ]
  },
  {
   "cell_type": "code",
   "execution_count": 31,
   "metadata": {},
   "outputs": [
    {
     "data": {
      "text/plain": [
       "\n",
       "\tPaired t-test\n",
       "\n",
       "data:  Q3 and Q6\n",
       "t = 8.8025, df = 506, p-value < 2.2e-16\n",
       "alternative hypothesis: true difference in means is not equal to 0\n",
       "99 percent confidence interval:\n",
       " 0.2242782 0.4108303\n",
       "sample estimates:\n",
       "mean of the differences \n",
       "              0.3175542 \n"
      ]
     },
     "metadata": {},
     "output_type": "display_data"
    }
   ],
   "source": [
    "t.test(Q3, Q6, mu=0, alt=\"two.sided\", paired=T, conf.level=0.99)"
   ]
  },
  {
   "cell_type": "code",
   "execution_count": 32,
   "metadata": {},
   "outputs": [
    {
     "data": {
      "text/plain": [
       "\n",
       "\tPaired t-test\n",
       "\n",
       "data:  Q3 and Q7\n",
       "t = -10.467, df = 506, p-value < 2.2e-16\n",
       "alternative hypothesis: true difference in means is not equal to 0\n",
       "99 percent confidence interval:\n",
       " -0.5583264 -0.3371371\n",
       "sample estimates:\n",
       "mean of the differences \n",
       "             -0.4477318 \n"
      ]
     },
     "metadata": {},
     "output_type": "display_data"
    }
   ],
   "source": [
    "t.test(Q3, Q7, mu=0, alt=\"two.sided\", paired=T, conf.level=0.99)"
   ]
  },
  {
   "cell_type": "code",
   "execution_count": 33,
   "metadata": {},
   "outputs": [
    {
     "data": {
      "text/plain": [
       "\n",
       "\tPaired t-test\n",
       "\n",
       "data:  Q3 and Q8\n",
       "t = -13.672, df = 506, p-value < 2.2e-16\n",
       "alternative hypothesis: true difference in means is not equal to 0\n",
       "99 percent confidence interval:\n",
       " -0.6496727 -0.4430295\n",
       "sample estimates:\n",
       "mean of the differences \n",
       "             -0.5463511 \n"
      ]
     },
     "metadata": {},
     "output_type": "display_data"
    }
   ],
   "source": [
    "t.test(Q3, Q8, mu=0, alt=\"two.sided\", paired=T, conf.level=0.99)"
   ]
  },
  {
   "cell_type": "code",
   "execution_count": 34,
   "metadata": {},
   "outputs": [
    {
     "data": {
      "text/plain": [
       "\n",
       "\tPaired t-test\n",
       "\n",
       "data:  Q3 and Q9\n",
       "t = 20.114, df = 506, p-value < 2.2e-16\n",
       "alternative hypothesis: true difference in means is not equal to 0\n",
       "99 percent confidence interval:\n",
       " 0.8009823 1.0372820\n",
       "sample estimates:\n",
       "mean of the differences \n",
       "              0.9191321 \n"
      ]
     },
     "metadata": {},
     "output_type": "display_data"
    }
   ],
   "source": [
    "t.test(Q3, Q9, mu=0, alt=\"two.sided\", paired=T, conf.level=0.99)"
   ]
  },
  {
   "cell_type": "code",
   "execution_count": 35,
   "metadata": {},
   "outputs": [
    {
     "data": {
      "text/plain": [
       "\n",
       "\tPaired t-test\n",
       "\n",
       "data:  Q3 and Q10\n",
       "t = 19.944, df = 506, p-value < 2.2e-16\n",
       "alternative hypothesis: true difference in means is not equal to 0\n",
       "99 percent confidence interval:\n",
       " 0.7004072 0.9090603\n",
       "sample estimates:\n",
       "mean of the differences \n",
       "              0.8047337 \n"
      ]
     },
     "metadata": {},
     "output_type": "display_data"
    }
   ],
   "source": [
    "t.test(Q3, Q10, mu=0, alt=\"two.sided\", paired=T, conf.level=0.99)"
   ]
  },
  {
   "cell_type": "code",
   "execution_count": 36,
   "metadata": {},
   "outputs": [
    {
     "data": {
      "text/plain": [
       "\n",
       "\tPaired t-test\n",
       "\n",
       "data:  Q4 and Q5\n",
       "t = 3.3577, df = 506, p-value = 0.0008451\n",
       "alternative hypothesis: true difference in means is not equal to 0\n",
       "99 percent confidence interval:\n",
       " 0.04354269 0.33515553\n",
       "sample estimates:\n",
       "mean of the differences \n",
       "              0.1893491 \n"
      ]
     },
     "metadata": {},
     "output_type": "display_data"
    }
   ],
   "source": [
    "t.test(Q4, Q5, mu=0, alt=\"two.sided\", paired=T, conf.level=0.99)"
   ]
  },
  {
   "cell_type": "code",
   "execution_count": 37,
   "metadata": {},
   "outputs": [
    {
     "data": {
      "text/plain": [
       "\n",
       "\tPaired t-test\n",
       "\n",
       "data:  Q4 and Q6\n",
       "t = 10.727, df = 506, p-value < 2.2e-16\n",
       "alternative hypothesis: true difference in means is not equal to 0\n",
       "99 percent confidence interval:\n",
       " 0.4685481 0.7661659\n",
       "sample estimates:\n",
       "mean of the differences \n",
       "               0.617357 \n"
      ]
     },
     "metadata": {},
     "output_type": "display_data"
    }
   ],
   "source": [
    "t.test(Q4, Q6, mu=0, alt=\"two.sided\", paired=T, conf.level=0.99)"
   ]
  },
  {
   "cell_type": "code",
   "execution_count": 38,
   "metadata": {},
   "outputs": [
    {
     "data": {
      "text/plain": [
       "\n",
       "\tPaired t-test\n",
       "\n",
       "data:  Q4 and Q7\n",
       "t = -2.6103, df = 506, p-value = 0.009314\n",
       "alternative hypothesis: true difference in means is not equal to 0\n",
       "99 percent confidence interval:\n",
       " -0.29445593 -0.00140206\n",
       "sample estimates:\n",
       "mean of the differences \n",
       "              -0.147929 \n"
      ]
     },
     "metadata": {},
     "output_type": "display_data"
    }
   ],
   "source": [
    "t.test(Q4, Q7, mu=0, alt=\"two.sided\", paired=T, conf.level=0.99)"
   ]
  },
  {
   "cell_type": "code",
   "execution_count": 39,
   "metadata": {},
   "outputs": [
    {
     "data": {
      "text/plain": [
       "\n",
       "\tPaired t-test\n",
       "\n",
       "data:  Q4 and Q8\n",
       "t = -4.6926, df = 506, p-value = 3.478e-06\n",
       "alternative hypothesis: true difference in means is not equal to 0\n",
       "99 percent confidence interval:\n",
       " -0.3823956 -0.1107010\n",
       "sample estimates:\n",
       "mean of the differences \n",
       "             -0.2465483 \n"
      ]
     },
     "metadata": {},
     "output_type": "display_data"
    }
   ],
   "source": [
    "t.test(Q4, Q8, mu=0, alt=\"two.sided\", paired=T, conf.level=0.99)"
   ]
  },
  {
   "cell_type": "code",
   "execution_count": 40,
   "metadata": {},
   "outputs": [
    {
     "data": {
      "text/plain": [
       "\n",
       "\tPaired t-test\n",
       "\n",
       "data:  Q4 and Q9\n",
       "t = 18.06, df = 506, p-value < 2.2e-16\n",
       "alternative hypothesis: true difference in means is not equal to 0\n",
       "99 percent confidence interval:\n",
       " 1.044421 1.393449\n",
       "sample estimates:\n",
       "mean of the differences \n",
       "               1.218935 \n"
      ]
     },
     "metadata": {},
     "output_type": "display_data"
    }
   ],
   "source": [
    "t.test(Q4, Q9, mu=0, alt=\"two.sided\", paired=T, conf.level=0.99)"
   ]
  },
  {
   "cell_type": "code",
   "execution_count": 41,
   "metadata": {},
   "outputs": [
    {
     "data": {
      "text/plain": [
       "\n",
       "\tPaired t-test\n",
       "\n",
       "data:  Q4 and Q10\n",
       "t = 17.912, df = 506, p-value < 2.2e-16\n",
       "alternative hypothesis: true difference in means is not equal to 0\n",
       "99 percent confidence interval:\n",
       " 0.9451016 1.2639714\n",
       "sample estimates:\n",
       "mean of the differences \n",
       "               1.104536 \n"
      ]
     },
     "metadata": {},
     "output_type": "display_data"
    }
   ],
   "source": [
    "t.test(Q4, Q10, mu=0, alt=\"two.sided\", paired=T, conf.level=0.99)"
   ]
  },
  {
   "cell_type": "code",
   "execution_count": 42,
   "metadata": {},
   "outputs": [
    {
     "data": {
      "text/plain": [
       "\n",
       "\tPaired t-test\n",
       "\n",
       "data:  Q5 and Q6\n",
       "t = 11.619, df = 506, p-value < 2.2e-16\n",
       "alternative hypothesis: true difference in means is not equal to 0\n",
       "99 percent confidence interval:\n",
       " 0.3327623 0.5232534\n",
       "sample estimates:\n",
       "mean of the differences \n",
       "              0.4280079 \n"
      ]
     },
     "metadata": {},
     "output_type": "display_data"
    }
   ],
   "source": [
    "t.test(Q5, Q6, mu=0, alt=\"two.sided\", paired=T, conf.level=0.99)"
   ]
  },
  {
   "cell_type": "code",
   "execution_count": 43,
   "metadata": {},
   "outputs": [
    {
     "data": {
      "text/plain": [
       "\n",
       "\tPaired t-test\n",
       "\n",
       "data:  Q5 and Q7\n",
       "t = -8.5063, df = 506, p-value < 2.2e-16\n",
       "alternative hypothesis: true difference in means is not equal to 0\n",
       "99 percent confidence interval:\n",
       " -0.4397976 -0.2347586\n",
       "sample estimates:\n",
       "mean of the differences \n",
       "             -0.3372781 \n"
      ]
     },
     "metadata": {},
     "output_type": "display_data"
    }
   ],
   "source": [
    "t.test(Q5, Q7, mu=0, alt=\"two.sided\", paired=T, conf.level=0.99)"
   ]
  },
  {
   "cell_type": "code",
   "execution_count": 44,
   "metadata": {},
   "outputs": [
    {
     "data": {
      "text/plain": [
       "\n",
       "\tPaired t-test\n",
       "\n",
       "data:  Q5 and Q8\n",
       "t = -11.927, df = 506, p-value < 2.2e-16\n",
       "alternative hypothesis: true difference in means is not equal to 0\n",
       "99 percent confidence interval:\n",
       " -0.5303937 -0.3414012\n",
       "sample estimates:\n",
       "mean of the differences \n",
       "             -0.4358974 \n"
      ]
     },
     "metadata": {},
     "output_type": "display_data"
    }
   ],
   "source": [
    "t.test(Q5, Q8, mu=0, alt=\"two.sided\", paired=T, conf.level=0.99)"
   ]
  },
  {
   "cell_type": "code",
   "execution_count": 45,
   "metadata": {},
   "outputs": [
    {
     "data": {
      "text/plain": [
       "\n",
       "\tPaired t-test\n",
       "\n",
       "data:  Q5 and Q9\n",
       "t = 20.29, df = 506, p-value < 2.2e-16\n",
       "alternative hypothesis: true difference in means is not equal to 0\n",
       "99 percent confidence interval:\n",
       " 0.8983858 1.1607858\n",
       "sample estimates:\n",
       "mean of the differences \n",
       "               1.029586 \n"
      ]
     },
     "metadata": {},
     "output_type": "display_data"
    }
   ],
   "source": [
    "t.test(Q5, Q9, mu=0, alt=\"two.sided\", paired=T, conf.level=0.99)"
   ]
  },
  {
   "cell_type": "code",
   "execution_count": 46,
   "metadata": {},
   "outputs": [
    {
     "data": {
      "text/plain": [
       "\n",
       "\tPaired t-test\n",
       "\n",
       "data:  Q5 and Q10\n",
       "t = 20.62, df = 506, p-value < 2.2e-16\n",
       "alternative hypothesis: true difference in means is not equal to 0\n",
       "99 percent confidence interval:\n",
       " 0.8004312 1.0299436\n",
       "sample estimates:\n",
       "mean of the differences \n",
       "              0.9151874 \n"
      ]
     },
     "metadata": {},
     "output_type": "display_data"
    }
   ],
   "source": [
    "t.test(Q5, Q10, mu=0, alt=\"two.sided\", paired=T, conf.level=0.99)"
   ]
  },
  {
   "cell_type": "code",
   "execution_count": 47,
   "metadata": {},
   "outputs": [
    {
     "data": {
      "text/plain": [
       "\n",
       "\tPaired t-test\n",
       "\n",
       "data:  Q6 and Q7\n",
       "t = -18.21, df = 506, p-value < 2.2e-16\n",
       "alternative hypothesis: true difference in means is not equal to 0\n",
       "99 percent confidence interval:\n",
       " -0.8739438 -0.6566282\n",
       "sample estimates:\n",
       "mean of the differences \n",
       "              -0.765286 \n"
      ]
     },
     "metadata": {},
     "output_type": "display_data"
    }
   ],
   "source": [
    "t.test(Q6, Q7, mu=0, alt=\"two.sided\", paired=T, conf.level=0.99)"
   ]
  },
  {
   "cell_type": "code",
   "execution_count": 48,
   "metadata": {},
   "outputs": [
    {
     "data": {
      "text/plain": [
       "\n",
       "\tPaired t-test\n",
       "\n",
       "data:  Q6 and Q8\n",
       "t = -21.62, df = 506, p-value < 2.2e-16\n",
       "alternative hypothesis: true difference in means is not equal to 0\n",
       "99 percent confidence interval:\n",
       " -0.9672204 -0.7605902\n",
       "sample estimates:\n",
       "mean of the differences \n",
       "             -0.8639053 \n"
      ]
     },
     "metadata": {},
     "output_type": "display_data"
    }
   ],
   "source": [
    "t.test(Q6, Q8, mu=0, alt=\"two.sided\", paired=T, conf.level=0.99)"
   ]
  },
  {
   "cell_type": "code",
   "execution_count": 49,
   "metadata": {},
   "outputs": [
    {
     "data": {
      "text/plain": [
       "\n",
       "\tPaired t-test\n",
       "\n",
       "data:  Q6 and Q9\n",
       "t = 13.216, df = 506, p-value < 2.2e-16\n",
       "alternative hypothesis: true difference in means is not equal to 0\n",
       "99 percent confidence interval:\n",
       " 0.4838883 0.7192675\n",
       "sample estimates:\n",
       "mean of the differences \n",
       "              0.6015779 \n"
      ]
     },
     "metadata": {},
     "output_type": "display_data"
    }
   ],
   "source": [
    "t.test(Q6, Q9, mu=0, alt=\"two.sided\", paired=T, conf.level=0.99)"
   ]
  },
  {
   "cell_type": "code",
   "execution_count": 50,
   "metadata": {},
   "outputs": [
    {
     "data": {
      "text/plain": [
       "\n",
       "\tPaired t-test\n",
       "\n",
       "data:  Q6 and Q10\n",
       "t = 12.089, df = 506, p-value < 2.2e-16\n",
       "alternative hypothesis: true difference in means is not equal to 0\n",
       "99 percent confidence interval:\n",
       " 0.3829782 0.5913808\n",
       "sample estimates:\n",
       "mean of the differences \n",
       "              0.4871795 \n"
      ]
     },
     "metadata": {},
     "output_type": "display_data"
    }
   ],
   "source": [
    "t.test(Q6, Q10, mu=0, alt=\"two.sided\", paired=T, conf.level=0.99)"
   ]
  },
  {
   "cell_type": "code",
   "execution_count": 51,
   "metadata": {},
   "outputs": [
    {
     "data": {
      "text/plain": [
       "\n",
       "\tPaired t-test\n",
       "\n",
       "data:  Q7 and Q8\n",
       "t = -2.6735, df = 506, p-value = 0.007748\n",
       "alternative hypothesis: true difference in means is not equal to 0\n",
       "99 percent confidence interval:\n",
       " -0.193994312 -0.003244347\n",
       "sample estimates:\n",
       "mean of the differences \n",
       "            -0.09861933 \n"
      ]
     },
     "metadata": {},
     "output_type": "display_data"
    }
   ],
   "source": [
    "t.test(Q7, Q8, mu=0, alt=\"two.sided\", paired=T, conf.level=0.99)"
   ]
  },
  {
   "cell_type": "code",
   "execution_count": 54,
   "metadata": {},
   "outputs": [
    {
     "data": {
      "text/plain": [
       "\n",
       "\tPaired t-test\n",
       "\n",
       "data:  Q7 and Q9\n",
       "t = 26.06, df = 506, p-value < 2.2e-16\n",
       "alternative hypothesis: true difference in means is not equal to 0\n",
       "99 percent confidence interval:\n",
       " 1.231249 1.502479\n",
       "sample estimates:\n",
       "mean of the differences \n",
       "               1.366864 \n"
      ]
     },
     "metadata": {},
     "output_type": "display_data"
    }
   ],
   "source": [
    "t.test(Q7, Q9, mu=0, alt=\"two.sided\", paired=T, conf.level=0.99)"
   ]
  },
  {
   "cell_type": "code",
   "execution_count": 55,
   "metadata": {},
   "outputs": [
    {
     "data": {
      "text/plain": [
       "\n",
       "\tPaired t-test\n",
       "\n",
       "data:  Q7 and Q10\n",
       "t = 27.307, df = 506, p-value < 2.2e-16\n",
       "alternative hypothesis: true difference in means is not equal to 0\n",
       "99 percent confidence interval:\n",
       " 1.133875 1.371056\n",
       "sample estimates:\n",
       "mean of the differences \n",
       "               1.252465 \n"
      ]
     },
     "metadata": {},
     "output_type": "display_data"
    }
   ],
   "source": [
    "t.test(Q7, Q10, mu=0, alt=\"two.sided\", paired=T, conf.level=0.99)"
   ]
  },
  {
   "cell_type": "code",
   "execution_count": 56,
   "metadata": {},
   "outputs": [
    {
     "data": {
      "text/plain": [
       "\n",
       "\tPaired t-test\n",
       "\n",
       "data:  Q8 and Q9\n",
       "t = 28.802, df = 506, p-value < 2.2e-16\n",
       "alternative hypothesis: true difference in means is not equal to 0\n",
       "99 percent confidence interval:\n",
       " 1.333927 1.597039\n",
       "sample estimates:\n",
       "mean of the differences \n",
       "               1.465483 \n"
      ]
     },
     "metadata": {},
     "output_type": "display_data"
    }
   ],
   "source": [
    "t.test(Q8, Q9, mu=0, alt=\"two.sided\", paired=T, conf.level=0.99)"
   ]
  },
  {
   "cell_type": "code",
   "execution_count": 57,
   "metadata": {},
   "outputs": [
    {
     "data": {
      "text/plain": [
       "\n",
       "\tPaired t-test\n",
       "\n",
       "data:  Q8 and Q10\n",
       "t = 31.316, df = 506, p-value < 2.2e-16\n",
       "alternative hypothesis: true difference in means is not equal to 0\n",
       "99 percent confidence interval:\n",
       " 1.239535 1.462635\n",
       "sample estimates:\n",
       "mean of the differences \n",
       "               1.351085 \n"
      ]
     },
     "metadata": {},
     "output_type": "display_data"
    }
   ],
   "source": [
    "t.test(Q8, Q10, mu=0, alt=\"two.sided\", paired=T, conf.level=0.99)"
   ]
  },
  {
   "cell_type": "code",
   "execution_count": 58,
   "metadata": {},
   "outputs": [
    {
     "data": {
      "text/plain": [
       "\n",
       "\tPaired t-test\n",
       "\n",
       "data:  Q9 and Q10\n",
       "t = -3.0068, df = 506, p-value = 0.002772\n",
       "alternative hypothesis: true difference in means is not equal to 0\n",
       "99 percent confidence interval:\n",
       " -0.21277217 -0.01602467\n",
       "sample estimates:\n",
       "mean of the differences \n",
       "             -0.1143984 \n"
      ]
     },
     "metadata": {},
     "output_type": "display_data"
    }
   ],
   "source": [
    "t.test(Q9, Q10, mu=0, alt=\"two.sided\", paired=T, conf.level=0.99)"
   ]
  },
  {
   "cell_type": "markdown",
   "metadata": {},
   "source": [
    "### 3. Uji Data dengan menggunakan Principal Component Analysis"
   ]
  },
  {
   "cell_type": "code",
   "execution_count": 59,
   "metadata": {},
   "outputs": [],
   "source": [
    "mydata<-read.csv('data.csv')"
   ]
  },
  {
   "cell_type": "code",
   "execution_count": 60,
   "metadata": {},
   "outputs": [
    {
     "data": {
      "text/html": [
       "<table>\n",
       "<thead><tr><th scope=col>Q1</th><th scope=col>Q2</th><th scope=col>Q3</th><th scope=col>Q4</th><th scope=col>Q5</th><th scope=col>Q6</th><th scope=col>Q7</th><th scope=col>Q8</th><th scope=col>Q9</th><th scope=col>Q10</th></tr></thead>\n",
       "<tbody>\n",
       "\t<tr><td>4</td><td>4</td><td>4</td><td>5</td><td>4</td><td>3</td><td>5</td><td>5</td><td>4</td><td>3</td></tr>\n",
       "\t<tr><td>3</td><td>3</td><td>4</td><td>5</td><td>4</td><td>4</td><td>4</td><td>5</td><td>3</td><td>2</td></tr>\n",
       "\t<tr><td>3</td><td>3</td><td>3</td><td>5</td><td>5</td><td>3</td><td>3</td><td>5</td><td>5</td><td>2</td></tr>\n",
       "\t<tr><td>2</td><td>4</td><td>4</td><td>5</td><td>4</td><td>4</td><td>4</td><td>4</td><td>3</td><td>4</td></tr>\n",
       "\t<tr><td>4</td><td>5</td><td>5</td><td>5</td><td>5</td><td>4</td><td>4</td><td>5</td><td>3</td><td>4</td></tr>\n",
       "\t<tr><td>2</td><td>3</td><td>3</td><td>5</td><td>3</td><td>3</td><td>5</td><td>5</td><td>4</td><td>3</td></tr>\n",
       "\t<tr><td>5</td><td>3</td><td>4</td><td>5</td><td>3</td><td>3</td><td>5</td><td>3</td><td>3</td><td>3</td></tr>\n",
       "\t<tr><td>4</td><td>4</td><td>4</td><td>5</td><td>4</td><td>4</td><td>5</td><td>4</td><td>4</td><td>4</td></tr>\n",
       "\t<tr><td>3</td><td>4</td><td>5</td><td>4</td><td>3</td><td>5</td><td>4</td><td>4</td><td>4</td><td>3</td></tr>\n",
       "\t<tr><td>4</td><td>3</td><td>4</td><td>5</td><td>4</td><td>3</td><td>4</td><td>4</td><td>3</td><td>4</td></tr>\n",
       "\t<tr><td>4</td><td>3</td><td>4</td><td>5</td><td>5</td><td>3</td><td>3</td><td>5</td><td>3</td><td>4</td></tr>\n",
       "\t<tr><td>5</td><td>4</td><td>4</td><td>5</td><td>4</td><td>4</td><td>5</td><td>5</td><td>3</td><td>3</td></tr>\n",
       "\t<tr><td>3</td><td>4</td><td>4</td><td>5</td><td>4</td><td>4</td><td>4</td><td>4</td><td>4</td><td>4</td></tr>\n",
       "\t<tr><td>4</td><td>2</td><td>3</td><td>4</td><td>4</td><td>4</td><td>4</td><td>4</td><td>3</td><td>3</td></tr>\n",
       "\t<tr><td>4</td><td>4</td><td>4</td><td>5</td><td>5</td><td>4</td><td>5</td><td>4</td><td>3</td><td>3</td></tr>\n",
       "\t<tr><td>5</td><td>2</td><td>3</td><td>5</td><td>5</td><td>3</td><td>4</td><td>4</td><td>3</td><td>3</td></tr>\n",
       "\t<tr><td>3</td><td>5</td><td>5</td><td>3</td><td>5</td><td>4</td><td>4</td><td>4</td><td>3</td><td>3</td></tr>\n",
       "\t<tr><td>4</td><td>4</td><td>3</td><td>2</td><td>3</td><td>3</td><td>4</td><td>5</td><td>1</td><td>2</td></tr>\n",
       "\t<tr><td>1</td><td>4</td><td>4</td><td>2</td><td>4</td><td>4</td><td>4</td><td>5</td><td>4</td><td>4</td></tr>\n",
       "\t<tr><td>3</td><td>3</td><td>5</td><td>3</td><td>4</td><td>5</td><td>5</td><td>5</td><td>4</td><td>3</td></tr>\n",
       "\t<tr><td>3</td><td>3</td><td>5</td><td>5</td><td>5</td><td>4</td><td>5</td><td>5</td><td>4</td><td>3</td></tr>\n",
       "\t<tr><td>4</td><td>4</td><td>4</td><td>5</td><td>3</td><td>5</td><td>5</td><td>5</td><td>3</td><td>2</td></tr>\n",
       "\t<tr><td>5</td><td>3</td><td>5</td><td>1</td><td>5</td><td>3</td><td>5</td><td>3</td><td>3</td><td>3</td></tr>\n",
       "\t<tr><td>4</td><td>3</td><td>4</td><td>5</td><td>4</td><td>4</td><td>5</td><td>5</td><td>3</td><td>3</td></tr>\n",
       "\t<tr><td>2</td><td>3</td><td>5</td><td>5</td><td>2</td><td>3</td><td>5</td><td>5</td><td>5</td><td>5</td></tr>\n",
       "\t<tr><td>4</td><td>3</td><td>5</td><td>4</td><td>4</td><td>5</td><td>5</td><td>4</td><td>3</td><td>4</td></tr>\n",
       "\t<tr><td>1</td><td>4</td><td>5</td><td>5</td><td>4</td><td>4</td><td>5</td><td>5</td><td>4</td><td>3</td></tr>\n",
       "\t<tr><td>4</td><td>3</td><td>4</td><td>4</td><td>4</td><td>3</td><td>5</td><td>3</td><td>4</td><td>3</td></tr>\n",
       "\t<tr><td>4</td><td>2</td><td>3</td><td>5</td><td>5</td><td>4</td><td>4</td><td>5</td><td>3</td><td>3</td></tr>\n",
       "\t<tr><td>2</td><td>4</td><td>4</td><td>5</td><td>4</td><td>4</td><td>5</td><td>5</td><td>1</td><td>1</td></tr>\n",
       "\t<tr><td>...</td><td>...</td><td>...</td><td>...</td><td>...</td><td>...</td><td>...</td><td>...</td><td>...</td><td>...</td></tr>\n",
       "\t<tr><td>4</td><td>3</td><td>5</td><td>5</td><td>4</td><td>4</td><td>5</td><td>5</td><td>2</td><td>3</td></tr>\n",
       "\t<tr><td>5</td><td>3</td><td>4</td><td>4</td><td>4</td><td>5</td><td>5</td><td>5</td><td>5</td><td>5</td></tr>\n",
       "\t<tr><td>3</td><td>4</td><td>4</td><td>5</td><td>4</td><td>4</td><td>5</td><td>5</td><td>5</td><td>4</td></tr>\n",
       "\t<tr><td>2</td><td>5</td><td>4</td><td>4</td><td>5</td><td>3</td><td>5</td><td>5</td><td>4</td><td>3</td></tr>\n",
       "\t<tr><td>4</td><td>2</td><td>4</td><td>2</td><td>4</td><td>4</td><td>5</td><td>4</td><td>3</td><td>3</td></tr>\n",
       "\t<tr><td>4</td><td>4</td><td>3</td><td>5</td><td>4</td><td>4</td><td>5</td><td>4</td><td>3</td><td>4</td></tr>\n",
       "\t<tr><td>5</td><td>4</td><td>5</td><td>4</td><td>4</td><td>4</td><td>5</td><td>5</td><td>5</td><td>3</td></tr>\n",
       "\t<tr><td>4</td><td>4</td><td>4</td><td>5</td><td>4</td><td>4</td><td>4</td><td>4</td><td>2</td><td>3</td></tr>\n",
       "\t<tr><td>5</td><td>3</td><td>4</td><td>5</td><td>5</td><td>4</td><td>5</td><td>5</td><td>3</td><td>3</td></tr>\n",
       "\t<tr><td>4</td><td>2</td><td>4</td><td>5</td><td>5</td><td>4</td><td>5</td><td>5</td><td>2</td><td>3</td></tr>\n",
       "\t<tr><td>3</td><td>3</td><td>3</td><td>5</td><td>4</td><td>3</td><td>5</td><td>5</td><td>3</td><td>3</td></tr>\n",
       "\t<tr><td>5</td><td>2</td><td>5</td><td>5</td><td>5</td><td>5</td><td>4</td><td>5</td><td>5</td><td>5</td></tr>\n",
       "\t<tr><td>4</td><td>3</td><td>4</td><td>4</td><td>5</td><td>5</td><td>4</td><td>5</td><td>3</td><td>3</td></tr>\n",
       "\t<tr><td>2</td><td>3</td><td>4</td><td>5</td><td>3</td><td>3</td><td>4</td><td>5</td><td>2</td><td>3</td></tr>\n",
       "\t<tr><td>4</td><td>3</td><td>5</td><td>5</td><td>5</td><td>4</td><td>3</td><td>4</td><td>4</td><td>4</td></tr>\n",
       "\t<tr><td>5</td><td>3</td><td>5</td><td>5</td><td>5</td><td>4</td><td>4</td><td>4</td><td>4</td><td>3</td></tr>\n",
       "\t<tr><td>5</td><td>5</td><td>4</td><td>2</td><td>2</td><td>4</td><td>4</td><td>3</td><td>3</td><td>3</td></tr>\n",
       "\t<tr><td>5</td><td>3</td><td>4</td><td>4</td><td>4</td><td>3</td><td>5</td><td>5</td><td>5</td><td>5</td></tr>\n",
       "\t<tr><td>5</td><td>4</td><td>5</td><td>5</td><td>5</td><td>3</td><td>5</td><td>5</td><td>3</td><td>3</td></tr>\n",
       "\t<tr><td>4</td><td>3</td><td>4</td><td>5</td><td>5</td><td>4</td><td>5</td><td>4</td><td>3</td><td>3</td></tr>\n",
       "\t<tr><td>4</td><td>4</td><td>4</td><td>4</td><td>4</td><td>3</td><td>3</td><td>5</td><td>3</td><td>3</td></tr>\n",
       "\t<tr><td>3</td><td>4</td><td>4</td><td>5</td><td>3</td><td>4</td><td>4</td><td>4</td><td>4</td><td>4</td></tr>\n",
       "\t<tr><td>5</td><td>3</td><td>4</td><td>4</td><td>5</td><td>5</td><td>5</td><td>4</td><td>3</td><td>3</td></tr>\n",
       "\t<tr><td>5</td><td>3</td><td>4</td><td>4</td><td>5</td><td>5</td><td>5</td><td>4</td><td>3</td><td>3</td></tr>\n",
       "\t<tr><td>4</td><td>3</td><td>5</td><td>5</td><td>4</td><td>4</td><td>3</td><td>5</td><td>2</td><td>3</td></tr>\n",
       "\t<tr><td>4</td><td>3</td><td>3</td><td>5</td><td>5</td><td>4</td><td>4</td><td>5</td><td>5</td><td>3</td></tr>\n",
       "\t<tr><td>5</td><td>5</td><td>4</td><td>5</td><td>3</td><td>5</td><td>3</td><td>5</td><td>5</td><td>3</td></tr>\n",
       "\t<tr><td>5</td><td>4</td><td>4</td><td>2</td><td>4</td><td>3</td><td>4</td><td>1</td><td>5</td><td>3</td></tr>\n",
       "\t<tr><td>4</td><td>3</td><td>4</td><td>5</td><td>4</td><td>4</td><td>4</td><td>5</td><td>2</td><td>3</td></tr>\n",
       "\t<tr><td>5</td><td>4</td><td>4</td><td>5</td><td>4</td><td>4</td><td>5</td><td>5</td><td>2</td><td>3</td></tr>\n",
       "</tbody>\n",
       "</table>\n"
      ],
      "text/latex": [
       "\\begin{tabular}{r|llllllllll}\n",
       " Q1 & Q2 & Q3 & Q4 & Q5 & Q6 & Q7 & Q8 & Q9 & Q10\\\\\n",
       "\\hline\n",
       "\t 4 & 4 & 4 & 5 & 4 & 3 & 5 & 5 & 4 & 3\\\\\n",
       "\t 3 & 3 & 4 & 5 & 4 & 4 & 4 & 5 & 3 & 2\\\\\n",
       "\t 3 & 3 & 3 & 5 & 5 & 3 & 3 & 5 & 5 & 2\\\\\n",
       "\t 2 & 4 & 4 & 5 & 4 & 4 & 4 & 4 & 3 & 4\\\\\n",
       "\t 4 & 5 & 5 & 5 & 5 & 4 & 4 & 5 & 3 & 4\\\\\n",
       "\t 2 & 3 & 3 & 5 & 3 & 3 & 5 & 5 & 4 & 3\\\\\n",
       "\t 5 & 3 & 4 & 5 & 3 & 3 & 5 & 3 & 3 & 3\\\\\n",
       "\t 4 & 4 & 4 & 5 & 4 & 4 & 5 & 4 & 4 & 4\\\\\n",
       "\t 3 & 4 & 5 & 4 & 3 & 5 & 4 & 4 & 4 & 3\\\\\n",
       "\t 4 & 3 & 4 & 5 & 4 & 3 & 4 & 4 & 3 & 4\\\\\n",
       "\t 4 & 3 & 4 & 5 & 5 & 3 & 3 & 5 & 3 & 4\\\\\n",
       "\t 5 & 4 & 4 & 5 & 4 & 4 & 5 & 5 & 3 & 3\\\\\n",
       "\t 3 & 4 & 4 & 5 & 4 & 4 & 4 & 4 & 4 & 4\\\\\n",
       "\t 4 & 2 & 3 & 4 & 4 & 4 & 4 & 4 & 3 & 3\\\\\n",
       "\t 4 & 4 & 4 & 5 & 5 & 4 & 5 & 4 & 3 & 3\\\\\n",
       "\t 5 & 2 & 3 & 5 & 5 & 3 & 4 & 4 & 3 & 3\\\\\n",
       "\t 3 & 5 & 5 & 3 & 5 & 4 & 4 & 4 & 3 & 3\\\\\n",
       "\t 4 & 4 & 3 & 2 & 3 & 3 & 4 & 5 & 1 & 2\\\\\n",
       "\t 1 & 4 & 4 & 2 & 4 & 4 & 4 & 5 & 4 & 4\\\\\n",
       "\t 3 & 3 & 5 & 3 & 4 & 5 & 5 & 5 & 4 & 3\\\\\n",
       "\t 3 & 3 & 5 & 5 & 5 & 4 & 5 & 5 & 4 & 3\\\\\n",
       "\t 4 & 4 & 4 & 5 & 3 & 5 & 5 & 5 & 3 & 2\\\\\n",
       "\t 5 & 3 & 5 & 1 & 5 & 3 & 5 & 3 & 3 & 3\\\\\n",
       "\t 4 & 3 & 4 & 5 & 4 & 4 & 5 & 5 & 3 & 3\\\\\n",
       "\t 2 & 3 & 5 & 5 & 2 & 3 & 5 & 5 & 5 & 5\\\\\n",
       "\t 4 & 3 & 5 & 4 & 4 & 5 & 5 & 4 & 3 & 4\\\\\n",
       "\t 1 & 4 & 5 & 5 & 4 & 4 & 5 & 5 & 4 & 3\\\\\n",
       "\t 4 & 3 & 4 & 4 & 4 & 3 & 5 & 3 & 4 & 3\\\\\n",
       "\t 4 & 2 & 3 & 5 & 5 & 4 & 4 & 5 & 3 & 3\\\\\n",
       "\t 2 & 4 & 4 & 5 & 4 & 4 & 5 & 5 & 1 & 1\\\\\n",
       "\t ... & ... & ... & ... & ... & ... & ... & ... & ... & ...\\\\\n",
       "\t 4 & 3 & 5 & 5 & 4 & 4 & 5 & 5 & 2 & 3\\\\\n",
       "\t 5 & 3 & 4 & 4 & 4 & 5 & 5 & 5 & 5 & 5\\\\\n",
       "\t 3 & 4 & 4 & 5 & 4 & 4 & 5 & 5 & 5 & 4\\\\\n",
       "\t 2 & 5 & 4 & 4 & 5 & 3 & 5 & 5 & 4 & 3\\\\\n",
       "\t 4 & 2 & 4 & 2 & 4 & 4 & 5 & 4 & 3 & 3\\\\\n",
       "\t 4 & 4 & 3 & 5 & 4 & 4 & 5 & 4 & 3 & 4\\\\\n",
       "\t 5 & 4 & 5 & 4 & 4 & 4 & 5 & 5 & 5 & 3\\\\\n",
       "\t 4 & 4 & 4 & 5 & 4 & 4 & 4 & 4 & 2 & 3\\\\\n",
       "\t 5 & 3 & 4 & 5 & 5 & 4 & 5 & 5 & 3 & 3\\\\\n",
       "\t 4 & 2 & 4 & 5 & 5 & 4 & 5 & 5 & 2 & 3\\\\\n",
       "\t 3 & 3 & 3 & 5 & 4 & 3 & 5 & 5 & 3 & 3\\\\\n",
       "\t 5 & 2 & 5 & 5 & 5 & 5 & 4 & 5 & 5 & 5\\\\\n",
       "\t 4 & 3 & 4 & 4 & 5 & 5 & 4 & 5 & 3 & 3\\\\\n",
       "\t 2 & 3 & 4 & 5 & 3 & 3 & 4 & 5 & 2 & 3\\\\\n",
       "\t 4 & 3 & 5 & 5 & 5 & 4 & 3 & 4 & 4 & 4\\\\\n",
       "\t 5 & 3 & 5 & 5 & 5 & 4 & 4 & 4 & 4 & 3\\\\\n",
       "\t 5 & 5 & 4 & 2 & 2 & 4 & 4 & 3 & 3 & 3\\\\\n",
       "\t 5 & 3 & 4 & 4 & 4 & 3 & 5 & 5 & 5 & 5\\\\\n",
       "\t 5 & 4 & 5 & 5 & 5 & 3 & 5 & 5 & 3 & 3\\\\\n",
       "\t 4 & 3 & 4 & 5 & 5 & 4 & 5 & 4 & 3 & 3\\\\\n",
       "\t 4 & 4 & 4 & 4 & 4 & 3 & 3 & 5 & 3 & 3\\\\\n",
       "\t 3 & 4 & 4 & 5 & 3 & 4 & 4 & 4 & 4 & 4\\\\\n",
       "\t 5 & 3 & 4 & 4 & 5 & 5 & 5 & 4 & 3 & 3\\\\\n",
       "\t 5 & 3 & 4 & 4 & 5 & 5 & 5 & 4 & 3 & 3\\\\\n",
       "\t 4 & 3 & 5 & 5 & 4 & 4 & 3 & 5 & 2 & 3\\\\\n",
       "\t 4 & 3 & 3 & 5 & 5 & 4 & 4 & 5 & 5 & 3\\\\\n",
       "\t 5 & 5 & 4 & 5 & 3 & 5 & 3 & 5 & 5 & 3\\\\\n",
       "\t 5 & 4 & 4 & 2 & 4 & 3 & 4 & 1 & 5 & 3\\\\\n",
       "\t 4 & 3 & 4 & 5 & 4 & 4 & 4 & 5 & 2 & 3\\\\\n",
       "\t 5 & 4 & 4 & 5 & 4 & 4 & 5 & 5 & 2 & 3\\\\\n",
       "\\end{tabular}\n"
      ],
      "text/markdown": [
       "\n",
       "| Q1 | Q2 | Q3 | Q4 | Q5 | Q6 | Q7 | Q8 | Q9 | Q10 |\n",
       "|---|---|---|---|---|---|---|---|---|---|\n",
       "| 4 | 4 | 4 | 5 | 4 | 3 | 5 | 5 | 4 | 3 |\n",
       "| 3 | 3 | 4 | 5 | 4 | 4 | 4 | 5 | 3 | 2 |\n",
       "| 3 | 3 | 3 | 5 | 5 | 3 | 3 | 5 | 5 | 2 |\n",
       "| 2 | 4 | 4 | 5 | 4 | 4 | 4 | 4 | 3 | 4 |\n",
       "| 4 | 5 | 5 | 5 | 5 | 4 | 4 | 5 | 3 | 4 |\n",
       "| 2 | 3 | 3 | 5 | 3 | 3 | 5 | 5 | 4 | 3 |\n",
       "| 5 | 3 | 4 | 5 | 3 | 3 | 5 | 3 | 3 | 3 |\n",
       "| 4 | 4 | 4 | 5 | 4 | 4 | 5 | 4 | 4 | 4 |\n",
       "| 3 | 4 | 5 | 4 | 3 | 5 | 4 | 4 | 4 | 3 |\n",
       "| 4 | 3 | 4 | 5 | 4 | 3 | 4 | 4 | 3 | 4 |\n",
       "| 4 | 3 | 4 | 5 | 5 | 3 | 3 | 5 | 3 | 4 |\n",
       "| 5 | 4 | 4 | 5 | 4 | 4 | 5 | 5 | 3 | 3 |\n",
       "| 3 | 4 | 4 | 5 | 4 | 4 | 4 | 4 | 4 | 4 |\n",
       "| 4 | 2 | 3 | 4 | 4 | 4 | 4 | 4 | 3 | 3 |\n",
       "| 4 | 4 | 4 | 5 | 5 | 4 | 5 | 4 | 3 | 3 |\n",
       "| 5 | 2 | 3 | 5 | 5 | 3 | 4 | 4 | 3 | 3 |\n",
       "| 3 | 5 | 5 | 3 | 5 | 4 | 4 | 4 | 3 | 3 |\n",
       "| 4 | 4 | 3 | 2 | 3 | 3 | 4 | 5 | 1 | 2 |\n",
       "| 1 | 4 | 4 | 2 | 4 | 4 | 4 | 5 | 4 | 4 |\n",
       "| 3 | 3 | 5 | 3 | 4 | 5 | 5 | 5 | 4 | 3 |\n",
       "| 3 | 3 | 5 | 5 | 5 | 4 | 5 | 5 | 4 | 3 |\n",
       "| 4 | 4 | 4 | 5 | 3 | 5 | 5 | 5 | 3 | 2 |\n",
       "| 5 | 3 | 5 | 1 | 5 | 3 | 5 | 3 | 3 | 3 |\n",
       "| 4 | 3 | 4 | 5 | 4 | 4 | 5 | 5 | 3 | 3 |\n",
       "| 2 | 3 | 5 | 5 | 2 | 3 | 5 | 5 | 5 | 5 |\n",
       "| 4 | 3 | 5 | 4 | 4 | 5 | 5 | 4 | 3 | 4 |\n",
       "| 1 | 4 | 5 | 5 | 4 | 4 | 5 | 5 | 4 | 3 |\n",
       "| 4 | 3 | 4 | 4 | 4 | 3 | 5 | 3 | 4 | 3 |\n",
       "| 4 | 2 | 3 | 5 | 5 | 4 | 4 | 5 | 3 | 3 |\n",
       "| 2 | 4 | 4 | 5 | 4 | 4 | 5 | 5 | 1 | 1 |\n",
       "| ... | ... | ... | ... | ... | ... | ... | ... | ... | ... |\n",
       "| 4 | 3 | 5 | 5 | 4 | 4 | 5 | 5 | 2 | 3 |\n",
       "| 5 | 3 | 4 | 4 | 4 | 5 | 5 | 5 | 5 | 5 |\n",
       "| 3 | 4 | 4 | 5 | 4 | 4 | 5 | 5 | 5 | 4 |\n",
       "| 2 | 5 | 4 | 4 | 5 | 3 | 5 | 5 | 4 | 3 |\n",
       "| 4 | 2 | 4 | 2 | 4 | 4 | 5 | 4 | 3 | 3 |\n",
       "| 4 | 4 | 3 | 5 | 4 | 4 | 5 | 4 | 3 | 4 |\n",
       "| 5 | 4 | 5 | 4 | 4 | 4 | 5 | 5 | 5 | 3 |\n",
       "| 4 | 4 | 4 | 5 | 4 | 4 | 4 | 4 | 2 | 3 |\n",
       "| 5 | 3 | 4 | 5 | 5 | 4 | 5 | 5 | 3 | 3 |\n",
       "| 4 | 2 | 4 | 5 | 5 | 4 | 5 | 5 | 2 | 3 |\n",
       "| 3 | 3 | 3 | 5 | 4 | 3 | 5 | 5 | 3 | 3 |\n",
       "| 5 | 2 | 5 | 5 | 5 | 5 | 4 | 5 | 5 | 5 |\n",
       "| 4 | 3 | 4 | 4 | 5 | 5 | 4 | 5 | 3 | 3 |\n",
       "| 2 | 3 | 4 | 5 | 3 | 3 | 4 | 5 | 2 | 3 |\n",
       "| 4 | 3 | 5 | 5 | 5 | 4 | 3 | 4 | 4 | 4 |\n",
       "| 5 | 3 | 5 | 5 | 5 | 4 | 4 | 4 | 4 | 3 |\n",
       "| 5 | 5 | 4 | 2 | 2 | 4 | 4 | 3 | 3 | 3 |\n",
       "| 5 | 3 | 4 | 4 | 4 | 3 | 5 | 5 | 5 | 5 |\n",
       "| 5 | 4 | 5 | 5 | 5 | 3 | 5 | 5 | 3 | 3 |\n",
       "| 4 | 3 | 4 | 5 | 5 | 4 | 5 | 4 | 3 | 3 |\n",
       "| 4 | 4 | 4 | 4 | 4 | 3 | 3 | 5 | 3 | 3 |\n",
       "| 3 | 4 | 4 | 5 | 3 | 4 | 4 | 4 | 4 | 4 |\n",
       "| 5 | 3 | 4 | 4 | 5 | 5 | 5 | 4 | 3 | 3 |\n",
       "| 5 | 3 | 4 | 4 | 5 | 5 | 5 | 4 | 3 | 3 |\n",
       "| 4 | 3 | 5 | 5 | 4 | 4 | 3 | 5 | 2 | 3 |\n",
       "| 4 | 3 | 3 | 5 | 5 | 4 | 4 | 5 | 5 | 3 |\n",
       "| 5 | 5 | 4 | 5 | 3 | 5 | 3 | 5 | 5 | 3 |\n",
       "| 5 | 4 | 4 | 2 | 4 | 3 | 4 | 1 | 5 | 3 |\n",
       "| 4 | 3 | 4 | 5 | 4 | 4 | 4 | 5 | 2 | 3 |\n",
       "| 5 | 4 | 4 | 5 | 4 | 4 | 5 | 5 | 2 | 3 |\n",
       "\n"
      ],
      "text/plain": [
       "    Q1  Q2  Q3  Q4  Q5  Q6  Q7  Q8  Q9  Q10\n",
       "1   4   4   4   5   4   3   5   5   4   3  \n",
       "2   3   3   4   5   4   4   4   5   3   2  \n",
       "3   3   3   3   5   5   3   3   5   5   2  \n",
       "4   2   4   4   5   4   4   4   4   3   4  \n",
       "5   4   5   5   5   5   4   4   5   3   4  \n",
       "6   2   3   3   5   3   3   5   5   4   3  \n",
       "7   5   3   4   5   3   3   5   3   3   3  \n",
       "8   4   4   4   5   4   4   5   4   4   4  \n",
       "9   3   4   5   4   3   5   4   4   4   3  \n",
       "10  4   3   4   5   4   3   4   4   3   4  \n",
       "11  4   3   4   5   5   3   3   5   3   4  \n",
       "12  5   4   4   5   4   4   5   5   3   3  \n",
       "13  3   4   4   5   4   4   4   4   4   4  \n",
       "14  4   2   3   4   4   4   4   4   3   3  \n",
       "15  4   4   4   5   5   4   5   4   3   3  \n",
       "16  5   2   3   5   5   3   4   4   3   3  \n",
       "17  3   5   5   3   5   4   4   4   3   3  \n",
       "18  4   4   3   2   3   3   4   5   1   2  \n",
       "19  1   4   4   2   4   4   4   5   4   4  \n",
       "20  3   3   5   3   4   5   5   5   4   3  \n",
       "21  3   3   5   5   5   4   5   5   4   3  \n",
       "22  4   4   4   5   3   5   5   5   3   2  \n",
       "23  5   3   5   1   5   3   5   3   3   3  \n",
       "24  4   3   4   5   4   4   5   5   3   3  \n",
       "25  2   3   5   5   2   3   5   5   5   5  \n",
       "26  4   3   5   4   4   5   5   4   3   4  \n",
       "27  1   4   5   5   4   4   5   5   4   3  \n",
       "28  4   3   4   4   4   3   5   3   4   3  \n",
       "29  4   2   3   5   5   4   4   5   3   3  \n",
       "30  2   4   4   5   4   4   5   5   1   1  \n",
       "... ... ... ... ... ... ... ... ... ... ...\n",
       "478 4   3   5   5   4   4   5   5   2   3  \n",
       "479 5   3   4   4   4   5   5   5   5   5  \n",
       "480 3   4   4   5   4   4   5   5   5   4  \n",
       "481 2   5   4   4   5   3   5   5   4   3  \n",
       "482 4   2   4   2   4   4   5   4   3   3  \n",
       "483 4   4   3   5   4   4   5   4   3   4  \n",
       "484 5   4   5   4   4   4   5   5   5   3  \n",
       "485 4   4   4   5   4   4   4   4   2   3  \n",
       "486 5   3   4   5   5   4   5   5   3   3  \n",
       "487 4   2   4   5   5   4   5   5   2   3  \n",
       "488 3   3   3   5   4   3   5   5   3   3  \n",
       "489 5   2   5   5   5   5   4   5   5   5  \n",
       "490 4   3   4   4   5   5   4   5   3   3  \n",
       "491 2   3   4   5   3   3   4   5   2   3  \n",
       "492 4   3   5   5   5   4   3   4   4   4  \n",
       "493 5   3   5   5   5   4   4   4   4   3  \n",
       "494 5   5   4   2   2   4   4   3   3   3  \n",
       "495 5   3   4   4   4   3   5   5   5   5  \n",
       "496 5   4   5   5   5   3   5   5   3   3  \n",
       "497 4   3   4   5   5   4   5   4   3   3  \n",
       "498 4   4   4   4   4   3   3   5   3   3  \n",
       "499 3   4   4   5   3   4   4   4   4   4  \n",
       "500 5   3   4   4   5   5   5   4   3   3  \n",
       "501 5   3   4   4   5   5   5   4   3   3  \n",
       "502 4   3   5   5   4   4   3   5   2   3  \n",
       "503 4   3   3   5   5   4   4   5   5   3  \n",
       "504 5   5   4   5   3   5   3   5   5   3  \n",
       "505 5   4   4   2   4   3   4   1   5   3  \n",
       "506 4   3   4   5   4   4   4   5   2   3  \n",
       "507 5   4   4   5   4   4   5   5   2   3  "
      ]
     },
     "metadata": {},
     "output_type": "display_data"
    }
   ],
   "source": [
    "mydata"
   ]
  },
  {
   "cell_type": "code",
   "execution_count": 61,
   "metadata": {},
   "outputs": [
    {
     "name": "stderr",
     "output_type": "stream",
     "text": [
      "The following objects are masked from mydata (pos = 3):\n",
      "\n",
      "    Q1, Q10, Q2, Q3, Q4, Q5, Q6, Q7, Q8, Q9\n",
      "\n"
     ]
    }
   ],
   "source": [
    "attach(mydata)"
   ]
  },
  {
   "cell_type": "code",
   "execution_count": 62,
   "metadata": {},
   "outputs": [],
   "source": [
    "# Define Variables\n",
    "x <- cbind(Q1,Q2,Q3,Q4,Q5,Q6,Q7,Q8,Q9,Q10)"
   ]
  },
  {
   "cell_type": "code",
   "execution_count": 63,
   "metadata": {},
   "outputs": [
    {
     "data": {
      "text/plain": [
       "       Q1              Q2              Q3              Q4       \n",
       " Min.   :1.000   Min.   :1.000   Min.   :1.000   Min.   :1.000  \n",
       " 1st Qu.:3.000   1st Qu.:3.000   1st Qu.:4.000   1st Qu.:4.000  \n",
       " Median :4.000   Median :3.000   Median :4.000   Median :5.000  \n",
       " Mean   :3.856   Mean   :3.477   Mean   :4.036   Mean   :4.335  \n",
       " 3rd Qu.:5.000   3rd Qu.:4.000   3rd Qu.:4.000   3rd Qu.:5.000  \n",
       " Max.   :5.000   Max.   :5.000   Max.   :5.000   Max.   :5.000  \n",
       "       Q5              Q6              Q7              Q8       \n",
       " Min.   :2.000   Min.   :1.000   Min.   :1.000   Min.   :1.000  \n",
       " 1st Qu.:4.000   1st Qu.:3.000   1st Qu.:4.000   1st Qu.:4.000  \n",
       " Median :4.000   Median :4.000   Median :5.000   Median :5.000  \n",
       " Mean   :4.146   Mean   :3.718   Mean   :4.483   Mean   :4.582  \n",
       " 3rd Qu.:5.000   3rd Qu.:4.000   3rd Qu.:5.000   3rd Qu.:5.000  \n",
       " Max.   :5.000   Max.   :5.000   Max.   :5.000   Max.   :5.000  \n",
       "       Q9             Q10       \n",
       " Min.   :1.000   Min.   :1.000  \n",
       " 1st Qu.:2.000   1st Qu.:3.000  \n",
       " Median :3.000   Median :3.000  \n",
       " Mean   :3.116   Mean   :3.231  \n",
       " 3rd Qu.:4.000   3rd Qu.:4.000  \n",
       " Max.   :5.000   Max.   :5.000  "
      ]
     },
     "metadata": {},
     "output_type": "display_data"
    },
    {
     "data": {
      "text/html": [
       "<table>\n",
       "<thead><tr><th></th><th scope=col>Q1</th><th scope=col>Q2</th><th scope=col>Q3</th><th scope=col>Q4</th><th scope=col>Q5</th><th scope=col>Q6</th><th scope=col>Q7</th><th scope=col>Q8</th><th scope=col>Q9</th><th scope=col>Q10</th></tr></thead>\n",
       "<tbody>\n",
       "\t<tr><th scope=row>Q1</th><td> 1.00000000 </td><td> 0.13943536 </td><td> 0.16834814 </td><td>-0.058952801</td><td> 0.07193433 </td><td> 0.12183022 </td><td> 0.048879428</td><td>-0.05852957 </td><td> 0.09096700 </td><td> 0.08095027 </td></tr>\n",
       "\t<tr><th scope=row>Q2</th><td> 0.13943536 </td><td> 1.00000000 </td><td> 0.12800595 </td><td>-0.013917823</td><td> 0.05038425 </td><td> 0.16744237 </td><td> 0.027612364</td><td> 0.03134867 </td><td> 0.20018379 </td><td> 0.20984161 </td></tr>\n",
       "\t<tr><th scope=row>Q3</th><td> 0.16834814 </td><td> 0.12800595 </td><td> 1.00000000 </td><td>-0.159381736</td><td> 0.16133213 </td><td> 0.33495666 </td><td> 0.057440554</td><td> 0.08757932 </td><td> 0.27543030 </td><td> 0.25203039 </td></tr>\n",
       "\t<tr><th scope=row>Q4</th><td>-0.05895280 </td><td>-0.01391782 </td><td>-0.15938174 </td><td> 1.000000000</td><td>-0.04518853 </td><td>-0.03705839 </td><td>-0.008374993</td><td> 0.08932653 </td><td>-0.11869959 </td><td>-0.11759961 </td></tr>\n",
       "\t<tr><th scope=row>Q5</th><td> 0.07193433 </td><td> 0.05038425 </td><td> 0.16133213 </td><td>-0.045188529</td><td> 1.00000000 </td><td> 0.25676035 </td><td> 0.130741482</td><td> 0.17353222 </td><td> 0.04807430 </td><td> 0.03465923 </td></tr>\n",
       "\t<tr><th scope=row>Q6</th><td> 0.12183022 </td><td> 0.16744237 </td><td> 0.33495666 </td><td>-0.037058394</td><td> 0.25676035 </td><td> 1.00000000 </td><td> 0.096168349</td><td> 0.09448339 </td><td> 0.28439303 </td><td> 0.25809712 </td></tr>\n",
       "\t<tr><th scope=row>Q7</th><td> 0.04887943 </td><td> 0.02761236 </td><td> 0.05744055 </td><td>-0.008374993</td><td> 0.13074148 </td><td> 0.09616835 </td><td> 1.000000000</td><td> 0.22210610 </td><td> 0.02758072 </td><td> 0.03057855 </td></tr>\n",
       "\t<tr><th scope=row>Q8</th><td>-0.05852957 </td><td> 0.03134867 </td><td> 0.08757932 </td><td> 0.089326533</td><td> 0.17353222 </td><td> 0.09448339 </td><td> 0.222106103</td><td> 1.00000000 </td><td> 0.01840576 </td><td> 0.06022427 </td></tr>\n",
       "\t<tr><th scope=row>Q9</th><td> 0.09096700 </td><td> 0.20018379 </td><td> 0.27543030 </td><td>-0.118699591</td><td> 0.04807430 </td><td> 0.28439303 </td><td> 0.027580722</td><td> 0.01840576 </td><td> 1.00000000 </td><td> 0.53893614 </td></tr>\n",
       "\t<tr><th scope=row>Q10</th><td> 0.08095027 </td><td> 0.20984161 </td><td> 0.25203039 </td><td>-0.117599610</td><td> 0.03465923 </td><td> 0.25809712 </td><td> 0.030578548</td><td> 0.06022427 </td><td> 0.53893614 </td><td> 1.00000000 </td></tr>\n",
       "</tbody>\n",
       "</table>\n"
      ],
      "text/latex": [
       "\\begin{tabular}{r|llllllllll}\n",
       "  & Q1 & Q2 & Q3 & Q4 & Q5 & Q6 & Q7 & Q8 & Q9 & Q10\\\\\n",
       "\\hline\n",
       "\tQ1 &  1.00000000  &  0.13943536  &  0.16834814  & -0.058952801 &  0.07193433  &  0.12183022  &  0.048879428 & -0.05852957  &  0.09096700  &  0.08095027 \\\\\n",
       "\tQ2 &  0.13943536  &  1.00000000  &  0.12800595  & -0.013917823 &  0.05038425  &  0.16744237  &  0.027612364 &  0.03134867  &  0.20018379  &  0.20984161 \\\\\n",
       "\tQ3 &  0.16834814  &  0.12800595  &  1.00000000  & -0.159381736 &  0.16133213  &  0.33495666  &  0.057440554 &  0.08757932  &  0.27543030  &  0.25203039 \\\\\n",
       "\tQ4 & -0.05895280  & -0.01391782  & -0.15938174  &  1.000000000 & -0.04518853  & -0.03705839  & -0.008374993 &  0.08932653  & -0.11869959  & -0.11759961 \\\\\n",
       "\tQ5 &  0.07193433  &  0.05038425  &  0.16133213  & -0.045188529 &  1.00000000  &  0.25676035  &  0.130741482 &  0.17353222  &  0.04807430  &  0.03465923 \\\\\n",
       "\tQ6 &  0.12183022  &  0.16744237  &  0.33495666  & -0.037058394 &  0.25676035  &  1.00000000  &  0.096168349 &  0.09448339  &  0.28439303  &  0.25809712 \\\\\n",
       "\tQ7 &  0.04887943  &  0.02761236  &  0.05744055  & -0.008374993 &  0.13074148  &  0.09616835  &  1.000000000 &  0.22210610  &  0.02758072  &  0.03057855 \\\\\n",
       "\tQ8 & -0.05852957  &  0.03134867  &  0.08757932  &  0.089326533 &  0.17353222  &  0.09448339  &  0.222106103 &  1.00000000  &  0.01840576  &  0.06022427 \\\\\n",
       "\tQ9 &  0.09096700  &  0.20018379  &  0.27543030  & -0.118699591 &  0.04807430  &  0.28439303  &  0.027580722 &  0.01840576  &  1.00000000  &  0.53893614 \\\\\n",
       "\tQ10 &  0.08095027  &  0.20984161  &  0.25203039  & -0.117599610 &  0.03465923  &  0.25809712  &  0.030578548 &  0.06022427  &  0.53893614  &  1.00000000 \\\\\n",
       "\\end{tabular}\n"
      ],
      "text/markdown": [
       "\n",
       "| <!--/--> | Q1 | Q2 | Q3 | Q4 | Q5 | Q6 | Q7 | Q8 | Q9 | Q10 |\n",
       "|---|---|---|---|---|---|---|---|---|---|---|\n",
       "| Q1 |  1.00000000  |  0.13943536  |  0.16834814  | -0.058952801 |  0.07193433  |  0.12183022  |  0.048879428 | -0.05852957  |  0.09096700  |  0.08095027  |\n",
       "| Q2 |  0.13943536  |  1.00000000  |  0.12800595  | -0.013917823 |  0.05038425  |  0.16744237  |  0.027612364 |  0.03134867  |  0.20018379  |  0.20984161  |\n",
       "| Q3 |  0.16834814  |  0.12800595  |  1.00000000  | -0.159381736 |  0.16133213  |  0.33495666  |  0.057440554 |  0.08757932  |  0.27543030  |  0.25203039  |\n",
       "| Q4 | -0.05895280  | -0.01391782  | -0.15938174  |  1.000000000 | -0.04518853  | -0.03705839  | -0.008374993 |  0.08932653  | -0.11869959  | -0.11759961  |\n",
       "| Q5 |  0.07193433  |  0.05038425  |  0.16133213  | -0.045188529 |  1.00000000  |  0.25676035  |  0.130741482 |  0.17353222  |  0.04807430  |  0.03465923  |\n",
       "| Q6 |  0.12183022  |  0.16744237  |  0.33495666  | -0.037058394 |  0.25676035  |  1.00000000  |  0.096168349 |  0.09448339  |  0.28439303  |  0.25809712  |\n",
       "| Q7 |  0.04887943  |  0.02761236  |  0.05744055  | -0.008374993 |  0.13074148  |  0.09616835  |  1.000000000 |  0.22210610  |  0.02758072  |  0.03057855  |\n",
       "| Q8 | -0.05852957  |  0.03134867  |  0.08757932  |  0.089326533 |  0.17353222  |  0.09448339  |  0.222106103 |  1.00000000  |  0.01840576  |  0.06022427  |\n",
       "| Q9 |  0.09096700  |  0.20018379  |  0.27543030  | -0.118699591 |  0.04807430  |  0.28439303  |  0.027580722 |  0.01840576  |  1.00000000  |  0.53893614  |\n",
       "| Q10 |  0.08095027  |  0.20984161  |  0.25203039  | -0.117599610 |  0.03465923  |  0.25809712  |  0.030578548 |  0.06022427  |  0.53893614  |  1.00000000  |\n",
       "\n"
      ],
      "text/plain": [
       "    Q1          Q2          Q3          Q4           Q5          Q6         \n",
       "Q1   1.00000000  0.13943536  0.16834814 -0.058952801  0.07193433  0.12183022\n",
       "Q2   0.13943536  1.00000000  0.12800595 -0.013917823  0.05038425  0.16744237\n",
       "Q3   0.16834814  0.12800595  1.00000000 -0.159381736  0.16133213  0.33495666\n",
       "Q4  -0.05895280 -0.01391782 -0.15938174  1.000000000 -0.04518853 -0.03705839\n",
       "Q5   0.07193433  0.05038425  0.16133213 -0.045188529  1.00000000  0.25676035\n",
       "Q6   0.12183022  0.16744237  0.33495666 -0.037058394  0.25676035  1.00000000\n",
       "Q7   0.04887943  0.02761236  0.05744055 -0.008374993  0.13074148  0.09616835\n",
       "Q8  -0.05852957  0.03134867  0.08757932  0.089326533  0.17353222  0.09448339\n",
       "Q9   0.09096700  0.20018379  0.27543030 -0.118699591  0.04807430  0.28439303\n",
       "Q10  0.08095027  0.20984161  0.25203039 -0.117599610  0.03465923  0.25809712\n",
       "    Q7           Q8          Q9          Q10        \n",
       "Q1   0.048879428 -0.05852957  0.09096700  0.08095027\n",
       "Q2   0.027612364  0.03134867  0.20018379  0.20984161\n",
       "Q3   0.057440554  0.08757932  0.27543030  0.25203039\n",
       "Q4  -0.008374993  0.08932653 -0.11869959 -0.11759961\n",
       "Q5   0.130741482  0.17353222  0.04807430  0.03465923\n",
       "Q6   0.096168349  0.09448339  0.28439303  0.25809712\n",
       "Q7   1.000000000  0.22210610  0.02758072  0.03057855\n",
       "Q8   0.222106103  1.00000000  0.01840576  0.06022427\n",
       "Q9   0.027580722  0.01840576  1.00000000  0.53893614\n",
       "Q10  0.030578548  0.06022427  0.53893614  1.00000000"
      ]
     },
     "metadata": {},
     "output_type": "display_data"
    }
   ],
   "source": [
    "# Descriptive Statistics\n",
    "summary(x)\n",
    "cor(x)"
   ]
  },
  {
   "cell_type": "code",
   "execution_count": 64,
   "metadata": {},
   "outputs": [],
   "source": [
    "# Principal Component Analysis\n",
    "pca <-princomp(x, score=TRUE,\n",
    " cor=TRUE)"
   ]
  },
  {
   "cell_type": "code",
   "execution_count": 66,
   "metadata": {},
   "outputs": [
    {
     "data": {
      "text/plain": [
       "\n",
       "Loadings:\n",
       "    Comp.1 Comp.2 Comp.3 Comp.4 Comp.5 Comp.6 Comp.7 Comp.8 Comp.9 Comp.10\n",
       "Q1   0.206         0.543  0.522  0.277  0.367  0.129  0.368  0.144        \n",
       "Q2   0.281        -0.118  0.556  0.160 -0.715        -0.199               \n",
       "Q3   0.416         0.231 -0.132 -0.154  0.213  0.475 -0.447 -0.510        \n",
       "Q4  -0.160 -0.234 -0.440  0.601 -0.349  0.395 -0.114        -0.264        \n",
       "Q5   0.226 -0.452  0.320        -0.391 -0.298 -0.321  0.433 -0.321        \n",
       "Q6   0.426 -0.146               -0.383        -0.220 -0.379  0.663        \n",
       "Q7   0.131 -0.497                0.658  0.143 -0.414 -0.298 -0.137        \n",
       "Q8   0.127 -0.575 -0.323         0.102         0.614  0.276  0.267        \n",
       "Q9   0.459  0.260 -0.312 -0.108         0.145 -0.172  0.210         0.712 \n",
       "Q10  0.450  0.242 -0.365 -0.107         0.103         0.286        -0.695 \n",
       "\n",
       "               Comp.1 Comp.2 Comp.3 Comp.4 Comp.5 Comp.6 Comp.7 Comp.8 Comp.9\n",
       "SS loadings       1.0    1.0    1.0    1.0    1.0    1.0    1.0    1.0    1.0\n",
       "Proportion Var    0.1    0.1    0.1    0.1    0.1    0.1    0.1    0.1    0.1\n",
       "Cumulative Var    0.1    0.2    0.3    0.4    0.5    0.6    0.7    0.8    0.9\n",
       "               Comp.10\n",
       "SS loadings        1.0\n",
       "Proportion Var     0.1\n",
       "Cumulative Var     1.0"
      ]
     },
     "metadata": {},
     "output_type": "display_data"
    }
   ],
   "source": [
    "# Loading Principal Components\n",
    "loadings(pca)"
   ]
  },
  {
   "cell_type": "code",
   "execution_count": 73,
   "metadata": {},
   "outputs": [
    {
     "data": {
      "image/png": "[encoded data removed]",
      "text/plain": [
       "Plot with title \"pca\""
      ]
     },
     "metadata": {},
     "output_type": "display_data"
    },
    {
     "data": {
      "image/png": "[encoded data removed]",
      "text/plain": [
       "Plot with title \"scree plot\""
      ]
     },
     "metadata": {},
     "output_type": "display_data"
    }
   ],
   "source": [
    "# Scree Plot of Eigenvalues\n",
    "plot(pca)\n",
    "screeplot(pca, type='line', main=\"scree plot\")"
   ]
  },
  {
   "cell_type": "code",
   "execution_count": 75,
   "metadata": {},
   "outputs": [
    {
     "data": {
      "image/png": "[encoded data removed]",
      "text/plain": [
       "plot without title"
      ]
     },
     "metadata": {},
     "output_type": "display_data"
    }
   ],
   "source": [
    "# Biplot of Score Variables\n",
    "biplot(pca)"
   ]
  },
  {
   "cell_type": "code",
   "execution_count": 82,
   "metadata": {},
   "outputs": [
    {
     "data": {
      "text/html": [
       "<table>\n",
       "<thead><tr><th scope=col>Comp.1</th><th scope=col>Comp.2</th><th scope=col>Comp.3</th><th scope=col>Comp.4</th><th scope=col>Comp.5</th><th scope=col>Comp.6</th><th scope=col>Comp.7</th><th scope=col>Comp.8</th><th scope=col>Comp.9</th><th scope=col>Comp.10</th></tr></thead>\n",
       "<tbody>\n",
       "\t<tr><td> 0.07017420</td><td>-0.40710942</td><td>-0.8481529 </td><td> 0.6297121 </td><td> 0.9697715 </td><td>-0.01935871</td><td> 0.24269171</td><td> 0.27514770</td><td>-0.7650498 </td><td> 0.93119666</td></tr>\n",
       "\t<tr><td>-1.11320961</td><td>-0.68003749</td><td>-0.3102137 </td><td>-0.1843935 </td><td>-1.1398699 </td><td> 0.13252524</td><td> 0.59702614</td><td>-0.54850405</td><td> 0.4717135 </td><td> 1.04062290</td></tr>\n",
       "\t<tr><td>-1.20353436</td><td> 0.09933332</td><td>-0.8736980 </td><td>-0.3222408 </td><td>-1.8371021 </td><td>-0.66961937</td><td>-0.02519102</td><td> 2.14924789</td><td>-0.2380674 </td><td> 2.60393424</td></tr>\n",
       "\t<tr><td>-0.02686094</td><td> 0.90345805</td><td>-1.4208047 </td><td>-0.1888110 </td><td>-1.1557375 </td><td>-0.76828139</td><td>-0.65938017</td><td>-0.86735835</td><td>-0.3031787 </td><td>-0.85767305</td></tr>\n",
       "\t<tr><td> 1.87247230</td><td>-0.45669007</td><td>-0.1705718 </td><td> 1.1135450 </td><td>-1.0619146 </td><td>-1.12647965</td><td> 0.85808357</td><td> 0.09884765</td><td>-0.8958883 </td><td>-0.77234625</td></tr>\n",
       "\t<tr><td>-1.62638217</td><td> 0.03624753</td><td>-2.6137620 </td><td>-0.7915811 </td><td> 1.0389597 </td><td> 0.26593580</td><td>-0.29633643</td><td>-0.25056731</td><td> 0.2537381 </td><td> 0.97642467</td></tr>\n",
       "\t<tr><td>-1.29168265</td><td> 1.80865038</td><td> 0.7029674 </td><td> 0.9446938 </td><td> 1.2870680 </td><td> 1.67227309</td><td>-1.00820682</td><td>-0.87570152</td><td>-0.7921938 </td><td>-0.04928209</td></tr>\n",
       "\t<tr><td> 1.04823426</td><td> 0.61392784</td><td>-0.6864954 </td><td> 0.6729820 </td><td> 0.3796896 </td><td> 0.32334646</td><td>-1.16923496</td><td>-0.33556632</td><td>-0.3109940 </td><td>-0.13204562</td></tr>\n",
       "\t<tr><td> 1.07940689</td><td> 1.62266507</td><td>-0.3615956 </td><td>-0.2140204 </td><td>-0.7842789 </td><td> 0.14324428</td><td> 0.38018706</td><td>-2.43497705</td><td> 0.7527566 </td><td> 0.73011228</td></tr>\n",
       "\t<tr><td>-0.55956344</td><td> 1.14188687</td><td>-0.3014125 </td><td> 0.1227455 </td><td>-0.2520127 </td><td> 0.70205547</td><td>-0.18244101</td><td> 0.65175382</td><td>-0.8663017 </td><td>-0.82263868</td></tr>\n",
       "</tbody>\n",
       "</table>\n"
      ],
      "text/latex": [
       "\\begin{tabular}{llllllllll}\n",
       " Comp.1 & Comp.2 & Comp.3 & Comp.4 & Comp.5 & Comp.6 & Comp.7 & Comp.8 & Comp.9 & Comp.10\\\\\n",
       "\\hline\n",
       "\t  0.07017420 & -0.40710942 & -0.8481529  &  0.6297121  &  0.9697715  & -0.01935871 &  0.24269171 &  0.27514770 & -0.7650498  &  0.93119666\\\\\n",
       "\t -1.11320961 & -0.68003749 & -0.3102137  & -0.1843935  & -1.1398699  &  0.13252524 &  0.59702614 & -0.54850405 &  0.4717135  &  1.04062290\\\\\n",
       "\t -1.20353436 &  0.09933332 & -0.8736980  & -0.3222408  & -1.8371021  & -0.66961937 & -0.02519102 &  2.14924789 & -0.2380674  &  2.60393424\\\\\n",
       "\t -0.02686094 &  0.90345805 & -1.4208047  & -0.1888110  & -1.1557375  & -0.76828139 & -0.65938017 & -0.86735835 & -0.3031787  & -0.85767305\\\\\n",
       "\t  1.87247230 & -0.45669007 & -0.1705718  &  1.1135450  & -1.0619146  & -1.12647965 &  0.85808357 &  0.09884765 & -0.8958883  & -0.77234625\\\\\n",
       "\t -1.62638217 &  0.03624753 & -2.6137620  & -0.7915811  &  1.0389597  &  0.26593580 & -0.29633643 & -0.25056731 &  0.2537381  &  0.97642467\\\\\n",
       "\t -1.29168265 &  1.80865038 &  0.7029674  &  0.9446938  &  1.2870680  &  1.67227309 & -1.00820682 & -0.87570152 & -0.7921938  & -0.04928209\\\\\n",
       "\t  1.04823426 &  0.61392784 & -0.6864954  &  0.6729820  &  0.3796896  &  0.32334646 & -1.16923496 & -0.33556632 & -0.3109940  & -0.13204562\\\\\n",
       "\t  1.07940689 &  1.62266507 & -0.3615956  & -0.2140204  & -0.7842789  &  0.14324428 &  0.38018706 & -2.43497705 &  0.7527566  &  0.73011228\\\\\n",
       "\t -0.55956344 &  1.14188687 & -0.3014125  &  0.1227455  & -0.2520127  &  0.70205547 & -0.18244101 &  0.65175382 & -0.8663017  & -0.82263868\\\\\n",
       "\\end{tabular}\n"
      ],
      "text/markdown": [
       "\n",
       "| Comp.1 | Comp.2 | Comp.3 | Comp.4 | Comp.5 | Comp.6 | Comp.7 | Comp.8 | Comp.9 | Comp.10 |\n",
       "|---|---|---|---|---|---|---|---|---|---|\n",
       "|  0.07017420 | -0.40710942 | -0.8481529  |  0.6297121  |  0.9697715  | -0.01935871 |  0.24269171 |  0.27514770 | -0.7650498  |  0.93119666 |\n",
       "| -1.11320961 | -0.68003749 | -0.3102137  | -0.1843935  | -1.1398699  |  0.13252524 |  0.59702614 | -0.54850405 |  0.4717135  |  1.04062290 |\n",
       "| -1.20353436 |  0.09933332 | -0.8736980  | -0.3222408  | -1.8371021  | -0.66961937 | -0.02519102 |  2.14924789 | -0.2380674  |  2.60393424 |\n",
       "| -0.02686094 |  0.90345805 | -1.4208047  | -0.1888110  | -1.1557375  | -0.76828139 | -0.65938017 | -0.86735835 | -0.3031787  | -0.85767305 |\n",
       "|  1.87247230 | -0.45669007 | -0.1705718  |  1.1135450  | -1.0619146  | -1.12647965 |  0.85808357 |  0.09884765 | -0.8958883  | -0.77234625 |\n",
       "| -1.62638217 |  0.03624753 | -2.6137620  | -0.7915811  |  1.0389597  |  0.26593580 | -0.29633643 | -0.25056731 |  0.2537381  |  0.97642467 |\n",
       "| -1.29168265 |  1.80865038 |  0.7029674  |  0.9446938  |  1.2870680  |  1.67227309 | -1.00820682 | -0.87570152 | -0.7921938  | -0.04928209 |\n",
       "|  1.04823426 |  0.61392784 | -0.6864954  |  0.6729820  |  0.3796896  |  0.32334646 | -1.16923496 | -0.33556632 | -0.3109940  | -0.13204562 |\n",
       "|  1.07940689 |  1.62266507 | -0.3615956  | -0.2140204  | -0.7842789  |  0.14324428 |  0.38018706 | -2.43497705 |  0.7527566  |  0.73011228 |\n",
       "| -0.55956344 |  1.14188687 | -0.3014125  |  0.1227455  | -0.2520127  |  0.70205547 | -0.18244101 |  0.65175382 | -0.8663017  | -0.82263868 |\n",
       "\n"
      ],
      "text/plain": [
       "      Comp.1      Comp.2      Comp.3     Comp.4     Comp.5     Comp.6     \n",
       " [1,]  0.07017420 -0.40710942 -0.8481529  0.6297121  0.9697715 -0.01935871\n",
       " [2,] -1.11320961 -0.68003749 -0.3102137 -0.1843935 -1.1398699  0.13252524\n",
       " [3,] -1.20353436  0.09933332 -0.8736980 -0.3222408 -1.8371021 -0.66961937\n",
       " [4,] -0.02686094  0.90345805 -1.4208047 -0.1888110 -1.1557375 -0.76828139\n",
       " [5,]  1.87247230 -0.45669007 -0.1705718  1.1135450 -1.0619146 -1.12647965\n",
       " [6,] -1.62638217  0.03624753 -2.6137620 -0.7915811  1.0389597  0.26593580\n",
       " [7,] -1.29168265  1.80865038  0.7029674  0.9446938  1.2870680  1.67227309\n",
       " [8,]  1.04823426  0.61392784 -0.6864954  0.6729820  0.3796896  0.32334646\n",
       " [9,]  1.07940689  1.62266507 -0.3615956 -0.2140204 -0.7842789  0.14324428\n",
       "[10,] -0.55956344  1.14188687 -0.3014125  0.1227455 -0.2520127  0.70205547\n",
       "      Comp.7      Comp.8      Comp.9     Comp.10    \n",
       " [1,]  0.24269171  0.27514770 -0.7650498  0.93119666\n",
       " [2,]  0.59702614 -0.54850405  0.4717135  1.04062290\n",
       " [3,] -0.02519102  2.14924789 -0.2380674  2.60393424\n",
       " [4,] -0.65938017 -0.86735835 -0.3031787 -0.85767305\n",
       " [5,]  0.85808357  0.09884765 -0.8958883 -0.77234625\n",
       " [6,] -0.29633643 -0.25056731  0.2537381  0.97642467\n",
       " [7,] -1.00820682 -0.87570152 -0.7921938 -0.04928209\n",
       " [8,] -1.16923496 -0.33556632 -0.3109940 -0.13204562\n",
       " [9,]  0.38018706 -2.43497705  0.7527566  0.73011228\n",
       "[10,] -0.18244101  0.65175382 -0.8663017 -0.82263868"
      ]
     },
     "metadata": {},
     "output_type": "display_data"
    }
   ],
   "source": [
    "# Scores of the Components\n",
    "pca$scores[1:10,]"
   ]
  },
  {
   "cell_type": "markdown",
   "metadata": {},
   "source": []
  }
 ],
 "metadata": {
  "kernelspec": {
   "display_name": "R",
   "language": "R",
   "name": "ir"
  },
  "language_info": {
   "codemirror_mode": "r",
   "file_extension": ".r",
   "mimetype": "text/x-r-source",
   "name": "R",
   "pygments_lexer": "r",
   "version": "3.6.1"
  }
 },
 "nbformat": 4,
 "nbformat_minor": 4
}
